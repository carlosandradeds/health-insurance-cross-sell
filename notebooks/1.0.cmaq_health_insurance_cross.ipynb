{
 "cells": [
  {
   "cell_type": "markdown",
   "id": "6c84ec24",
   "metadata": {},
   "source": [
    "# 0.0 Imports"
   ]
  },
  {
   "cell_type": "code",
   "execution_count": 88,
   "id": "07f4f103",
   "metadata": {
    "ExecuteTime": {
     "end_time": "2022-08-17T02:38:04.349560Z",
     "start_time": "2022-08-17T02:38:04.328573Z"
    }
   },
   "outputs": [],
   "source": [
    "import pandas      as pd\n",
    "import numpy       as np\n",
    "import seaborn     as sns\n",
    "import boruta      as bt\n",
    "import scikitplot  as skplt\n",
    "import pickle \n",
    "import xgboost     as xgb\n",
    "import random\n",
    "\n",
    "\n",
    "from matplotlib              import pyplot          as plt\n",
    "from sklearn                 import linear_model    as lm\n",
    "from sklearn                 import model_selection as ms\n",
    "from sklearn                 import preprocessing   as pp\n",
    "from sklearn                 import ensemble        as en\n",
    "from sklearn                 import neighbors       as nh\n",
    "from sklearn.metrics         import precision_score, recall_score, accuracy_score, balanced_accuracy_score\n",
    "from sklearn.model_selection import train_test_split, RepeatedStratifiedKFold"
   ]
  },
  {
   "cell_type": "markdown",
   "id": "58af1bf1",
   "metadata": {
    "ExecuteTime": {
     "end_time": "2022-08-17T02:29:01.584238Z",
     "start_time": "2022-08-17T02:29:01.567339Z"
    }
   },
   "source": [
    "## 0.1 Helper Functions"
   ]
  },
  {
   "cell_type": "code",
   "execution_count": 118,
   "id": "cca2c0e2",
   "metadata": {
    "ExecuteTime": {
     "end_time": "2022-08-17T03:09:15.863304Z",
     "start_time": "2022-08-17T03:09:15.795494Z"
    }
   },
   "outputs": [],
   "source": [
    "def jupyter_settings():\n",
    "    %matplotlib inline\n",
    "    %pylab inline\n",
    "    plt.style.use( 'bmh' )\n",
    "    plt.rcParams['figure.figsize'] = [25, 14]\n",
    "    plt.rcParams['font.size'] = 24\n",
    "    display( HTML( '<style>.container { width:100% !important; }</style>') )\n",
    "    pd.options.display.max_columns = None\n",
    "    pd.options.display.max_rows = None\n",
    "    pd.set_option( 'display.expand_frame_repr', False )\n",
    "    sns.set()\n",
    "    \n",
    "#Cramer's V\n",
    "\n",
    "def cramer(x,y):\n",
    "    cm = pd.crosstab(x,y).values\n",
    "    \n",
    "    chi2 = ss.chi2_contingency(cm)[0]\n",
    "    \n",
    "    n = cm.sum()\n",
    "    \n",
    "    r,k = cm.shape\n",
    "    \n",
    "    v = np.sqrt((chi2/n) / (min(k-1,r-1)))\n",
    "    \n",
    "    phi2 = chi2/n\n",
    "    \n",
    "    phi2corr = max(0,(phi2 - ((k-1)*(r-1))/(n-1)))\n",
    "    \n",
    "    kcorr = k - (k-1)**2/(n-1)\n",
    "    \n",
    "    rcorr = r - (r-1)**2/(n-1)\n",
    "    \n",
    "    return np.sqrt(phi2corr/(min(kcorr-1,rcorr-1)))\n",
    "\n",
    "#METRCIS FUNCTIONS\n",
    "\n",
    "def table_analysis(y_val,yhat):\n",
    "    table = pd.DataFrame(y_val)\n",
    "    table['id'] = y_val.index + 1\n",
    "    table['predict_score'] = yhat[:,1].tolist()\n",
    "    table = table.sort_values('predict_score',ascending=False)\n",
    "    table = table.reset_index(drop=True)\n",
    "    table['ranking'] = table.index + 1\n",
    "    table['acc_pred_score'] = table['response'].cumsum()/table['response'].sum()\n",
    "    table['base'] = table['ranking']/len(table)\n",
    "    table['baseline'] = table['base'] \n",
    "    table['lift'] = table['acc_pred_score'] / table['baseline']\n",
    "    table['precision_at_k'] = table['response'].cumsum()/table['ranking']\n",
    "    table['recall_at_k'] = table['response'].cumsum()/table['response'].sum()\n",
    "    order_cols = ['id','response','predict_score','ranking','acc_pred_score','base','baseline','lift','precision_at_k','recall_at_k']\n",
    "    table = table[order_cols]\n",
    "    \n",
    "    return table\n",
    "\n",
    "def precision_recall_at_k (table, k=100):\n",
    "    #data = data.sort_values('predict_score',ascending=False)\n",
    "    #data = data.reset_index(drop=True)\n",
    "    #data['ranking'] = data.index+1\n",
    "    table['precision_at_k'] = table['response'].cumsum()/table['ranking']\n",
    "    table['recall_at_k'] = table['response'].cumsum()/table['response'].sum()\n",
    "    \n",
    "    return pd.DataFrame({'precision_at_k':table.loc[k-1,'precision_at_k'],'recall_at_k': table.loc[k-1,'recall_at_k']},index=[k])\n",
    "\n",
    "def precision_recall_at_k_2 (table, k=100):\n",
    "    #data = data.sort_values('predict_score',ascending=False)\n",
    "    #data = data.reset_index(drop=True)\n",
    "    #data['ranking'] = data.index+1\n",
    "    table['precision_at_k'] = table['response'].cumsum()/table['ranking']\n",
    "    table['recall_at_k'] = table['response'].cumsum()/table['response'].sum()\n",
    "    \n",
    "    return ({table.loc[k-1,'precision_at_k'],table.loc[k-1,'recall_at_k']})\n",
    "\n",
    "\n",
    "def cross_validation(data, model, name_model, n_splits, n_repeats, top_k):\n",
    "    X = data.drop('response',axis=1)\n",
    "    y = data['response']\n",
    "    cv = RepeatedStratifiedKFold(n_splits=n_splits, n_repeats=n_repeats)\n",
    "    i = 1\n",
    "    metrics_k = pd.DataFrame()\n",
    "    \n",
    "    for train_index, test_index in cv.split(X, y):\n",
    "        X_train, X_val = X.iloc[train_index], X.iloc[test_index]\n",
    "        y_train, y_val = y.iloc[train_index], y.iloc[test_index]\n",
    "        print ('\\nKFold Number: {}'.format( i ) )\n",
    "        i+=1\n",
    "        \n",
    "        #print('training_lenght:{x_training.shape[0]}\\nvalidation_lenght:{x_prim_val.shape[0]}\\n\\n')\n",
    "        \n",
    "        #model training\n",
    "        ml_model = model.fit(X_train,y_train)\n",
    "        \n",
    "        #prediction\n",
    "        yhat = ml_model.predict_proba(X_val)\n",
    "        \n",
    "        #performance\n",
    "        result_model = table_analysis(y_val,yhat)\n",
    "        #metrics_k = metrics_k.append(precision_recall_at_k(result_model,top_k))\n",
    "        metrics_k = pd.concat([metrics_k,precision_recall_at_k(result_model,top_k)],axis=0)\n",
    "        \n",
    "    \n",
    "    \n",
    "    real_performance = pd.DataFrame({\n",
    "        #'Name_Model': name_model,\n",
    "        'Mean_Precision_at_k' : str((np.round((metrics_k['precision_at_k'].mean()),5)))+ '+/-'+str((np.round((metrics_k['precision_at_k'].std()),5))),\n",
    "        'Mean_Recall_at_k': str((np.round((metrics_k['recall_at_k'].mean()),5)))+ '+/-'+str((np.round((metrics_k['recall_at_k'].std()),5)))\n",
    "    }, index = [name_model])        \n",
    "        \n",
    "    \n",
    "    return real_performance"
   ]
  },
  {
   "cell_type": "markdown",
   "id": "8375b26e",
   "metadata": {},
   "source": [
    "# 0.2. Loading Dataset"
   ]
  },
  {
   "cell_type": "code",
   "execution_count": 2,
   "id": "1028ba95",
   "metadata": {
    "ExecuteTime": {
     "end_time": "2022-08-17T00:11:56.672140Z",
     "start_time": "2022-08-17T00:11:56.221026Z"
    }
   },
   "outputs": [],
   "source": [
    "df_raw = pd.read_csv('C:/Users/kaka/Projetos_DS/health-insurance-cross-sell/data/raw/train.csv')"
   ]
  },
  {
   "cell_type": "code",
   "execution_count": 3,
   "id": "bb5c8625",
   "metadata": {
    "ExecuteTime": {
     "end_time": "2022-08-17T00:11:59.521487Z",
     "start_time": "2022-08-17T00:11:59.487204Z"
    }
   },
   "outputs": [
    {
     "data": {
      "text/html": [
       "<div>\n",
       "<style scoped>\n",
       "    .dataframe tbody tr th:only-of-type {\n",
       "        vertical-align: middle;\n",
       "    }\n",
       "\n",
       "    .dataframe tbody tr th {\n",
       "        vertical-align: top;\n",
       "    }\n",
       "\n",
       "    .dataframe thead th {\n",
       "        text-align: right;\n",
       "    }\n",
       "</style>\n",
       "<table border=\"1\" class=\"dataframe\">\n",
       "  <thead>\n",
       "    <tr style=\"text-align: right;\">\n",
       "      <th></th>\n",
       "      <th>id</th>\n",
       "      <th>Gender</th>\n",
       "      <th>Age</th>\n",
       "      <th>Driving_License</th>\n",
       "      <th>Region_Code</th>\n",
       "      <th>Previously_Insured</th>\n",
       "      <th>Vehicle_Age</th>\n",
       "      <th>Vehicle_Damage</th>\n",
       "      <th>Annual_Premium</th>\n",
       "      <th>Policy_Sales_Channel</th>\n",
       "      <th>Vintage</th>\n",
       "      <th>Response</th>\n",
       "    </tr>\n",
       "  </thead>\n",
       "  <tbody>\n",
       "    <tr>\n",
       "      <th>0</th>\n",
       "      <td>1</td>\n",
       "      <td>Male</td>\n",
       "      <td>44</td>\n",
       "      <td>1</td>\n",
       "      <td>28.0</td>\n",
       "      <td>0</td>\n",
       "      <td>&gt; 2 Years</td>\n",
       "      <td>Yes</td>\n",
       "      <td>40454.0</td>\n",
       "      <td>26.0</td>\n",
       "      <td>217</td>\n",
       "      <td>1</td>\n",
       "    </tr>\n",
       "    <tr>\n",
       "      <th>1</th>\n",
       "      <td>2</td>\n",
       "      <td>Male</td>\n",
       "      <td>76</td>\n",
       "      <td>1</td>\n",
       "      <td>3.0</td>\n",
       "      <td>0</td>\n",
       "      <td>1-2 Year</td>\n",
       "      <td>No</td>\n",
       "      <td>33536.0</td>\n",
       "      <td>26.0</td>\n",
       "      <td>183</td>\n",
       "      <td>0</td>\n",
       "    </tr>\n",
       "    <tr>\n",
       "      <th>2</th>\n",
       "      <td>3</td>\n",
       "      <td>Male</td>\n",
       "      <td>47</td>\n",
       "      <td>1</td>\n",
       "      <td>28.0</td>\n",
       "      <td>0</td>\n",
       "      <td>&gt; 2 Years</td>\n",
       "      <td>Yes</td>\n",
       "      <td>38294.0</td>\n",
       "      <td>26.0</td>\n",
       "      <td>27</td>\n",
       "      <td>1</td>\n",
       "    </tr>\n",
       "    <tr>\n",
       "      <th>3</th>\n",
       "      <td>4</td>\n",
       "      <td>Male</td>\n",
       "      <td>21</td>\n",
       "      <td>1</td>\n",
       "      <td>11.0</td>\n",
       "      <td>1</td>\n",
       "      <td>&lt; 1 Year</td>\n",
       "      <td>No</td>\n",
       "      <td>28619.0</td>\n",
       "      <td>152.0</td>\n",
       "      <td>203</td>\n",
       "      <td>0</td>\n",
       "    </tr>\n",
       "    <tr>\n",
       "      <th>4</th>\n",
       "      <td>5</td>\n",
       "      <td>Female</td>\n",
       "      <td>29</td>\n",
       "      <td>1</td>\n",
       "      <td>41.0</td>\n",
       "      <td>1</td>\n",
       "      <td>&lt; 1 Year</td>\n",
       "      <td>No</td>\n",
       "      <td>27496.0</td>\n",
       "      <td>152.0</td>\n",
       "      <td>39</td>\n",
       "      <td>0</td>\n",
       "    </tr>\n",
       "  </tbody>\n",
       "</table>\n",
       "</div>"
      ],
      "text/plain": [
       "   id  Gender  Age  Driving_License  Region_Code  Previously_Insured  \\\n",
       "0   1    Male   44                1         28.0                   0   \n",
       "1   2    Male   76                1          3.0                   0   \n",
       "2   3    Male   47                1         28.0                   0   \n",
       "3   4    Male   21                1         11.0                   1   \n",
       "4   5  Female   29                1         41.0                   1   \n",
       "\n",
       "  Vehicle_Age Vehicle_Damage  Annual_Premium  Policy_Sales_Channel  Vintage  \\\n",
       "0   > 2 Years            Yes         40454.0                  26.0      217   \n",
       "1    1-2 Year             No         33536.0                  26.0      183   \n",
       "2   > 2 Years            Yes         38294.0                  26.0       27   \n",
       "3    < 1 Year             No         28619.0                 152.0      203   \n",
       "4    < 1 Year             No         27496.0                 152.0       39   \n",
       "\n",
       "   Response  \n",
       "0         1  \n",
       "1         0  \n",
       "2         1  \n",
       "3         0  \n",
       "4         0  "
      ]
     },
     "execution_count": 3,
     "metadata": {},
     "output_type": "execute_result"
    }
   ],
   "source": [
    "df_raw.head()"
   ]
  },
  {
   "cell_type": "markdown",
   "id": "1ef714ad",
   "metadata": {},
   "source": [
    "# 1.0. Data Descripition"
   ]
  },
  {
   "cell_type": "code",
   "execution_count": 4,
   "id": "a7ca5613",
   "metadata": {
    "ExecuteTime": {
     "end_time": "2022-08-17T00:12:02.948063Z",
     "start_time": "2022-08-17T00:12:02.932067Z"
    }
   },
   "outputs": [],
   "source": [
    "df_raw.columns\n",
    "\n",
    "cols_new = ['id', 'gender', 'age', 'driving_license', 'region_code',\n",
    "       'previously_insured', 'vehicle_age', 'vehicle_damage', 'annual_premium',\n",
    "       'policy_sales_channel', 'vintage', 'response']\n",
    "\n",
    "df1 = df_raw.copy()\n",
    "df1.columns = cols_new"
   ]
  },
  {
   "cell_type": "code",
   "execution_count": null,
   "id": "76adaf0c",
   "metadata": {
    "ExecuteTime": {
     "end_time": "2022-08-04T01:35:02.153386Z",
     "start_time": "2022-08-04T01:35:02.136397Z"
    }
   },
   "outputs": [],
   "source": []
  },
  {
   "cell_type": "markdown",
   "id": "d4a03949",
   "metadata": {},
   "source": [
    "## 1.1 Data Dimension"
   ]
  },
  {
   "cell_type": "code",
   "execution_count": 5,
   "id": "5771c858",
   "metadata": {
    "ExecuteTime": {
     "end_time": "2022-08-17T00:12:06.956054Z",
     "start_time": "2022-08-17T00:12:06.948279Z"
    }
   },
   "outputs": [
    {
     "name": "stdout",
     "output_type": "stream",
     "text": [
      "Number of Rows: 381109\n",
      "Number of Columns: 12\n"
     ]
    }
   ],
   "source": [
    "print('Number of Rows: {}'.format(df1.shape[0]))\n",
    "print('Number of Columns: {}'.format(df1.shape[1]))"
   ]
  },
  {
   "cell_type": "markdown",
   "id": "a5f76c15",
   "metadata": {
    "heading_collapsed": true
   },
   "source": [
    "## 1.2 Data Types"
   ]
  },
  {
   "cell_type": "code",
   "execution_count": 7,
   "id": "11223ae5",
   "metadata": {
    "ExecuteTime": {
     "end_time": "2022-08-08T13:50:55.468079Z",
     "start_time": "2022-08-08T13:50:55.462083Z"
    },
    "hidden": true
   },
   "outputs": [
    {
     "data": {
      "text/plain": [
       "id                        int64\n",
       "gender                   object\n",
       "age                       int64\n",
       "driving_license           int64\n",
       "region_code             float64\n",
       "previously_insured        int64\n",
       "vehicle_age              object\n",
       "vehicle_damage           object\n",
       "annual_premium          float64\n",
       "policy_sales_channel    float64\n",
       "vintage                   int64\n",
       "response                  int64\n",
       "dtype: object"
      ]
     },
     "execution_count": 7,
     "metadata": {},
     "output_type": "execute_result"
    }
   ],
   "source": [
    "df1.dtypes"
   ]
  },
  {
   "cell_type": "markdown",
   "id": "b771eb3f",
   "metadata": {
    "heading_collapsed": true
   },
   "source": [
    "## 1.3 Check NA"
   ]
  },
  {
   "cell_type": "code",
   "execution_count": 4,
   "id": "1d2dc685",
   "metadata": {
    "ExecuteTime": {
     "end_time": "2022-08-13T12:31:15.587917Z",
     "start_time": "2022-08-13T12:31:15.406105Z"
    },
    "hidden": true
   },
   "outputs": [
    {
     "data": {
      "text/plain": [
       "id                      0\n",
       "gender                  0\n",
       "age                     0\n",
       "driving_license         0\n",
       "region_code             0\n",
       "previously_insured      0\n",
       "vehicle_age             0\n",
       "vehicle_damage          0\n",
       "annual_premium          0\n",
       "policy_sales_channel    0\n",
       "vintage                 0\n",
       "response                0\n",
       "dtype: int64"
      ]
     },
     "execution_count": 4,
     "metadata": {},
     "output_type": "execute_result"
    }
   ],
   "source": [
    "df1.isna().sum()"
   ]
  },
  {
   "cell_type": "markdown",
   "id": "76c39378",
   "metadata": {
    "heading_collapsed": true
   },
   "source": [
    "## 1.4 Data Descriptive"
   ]
  },
  {
   "cell_type": "code",
   "execution_count": 5,
   "id": "1fe795fe",
   "metadata": {
    "ExecuteTime": {
     "end_time": "2022-08-09T02:01:14.799708Z",
     "start_time": "2022-08-09T02:01:14.793710Z"
    },
    "hidden": true
   },
   "outputs": [],
   "source": [
    "num_attributes = df1.select_dtypes(include=['int64', 'float64'])\n",
    "cat_attributes = df1.select_dtypes(exclude=['int64', 'float64', 'datetime64[ns]'])"
   ]
  },
  {
   "cell_type": "code",
   "execution_count": 6,
   "id": "b4e7a242",
   "metadata": {
    "ExecuteTime": {
     "end_time": "2022-08-09T02:01:16.749476Z",
     "start_time": "2022-08-09T02:01:15.882005Z"
    },
    "hidden": true
   },
   "outputs": [
    {
     "data": {
      "text/html": [
       "<div>\n",
       "<style scoped>\n",
       "    .dataframe tbody tr th:only-of-type {\n",
       "        vertical-align: middle;\n",
       "    }\n",
       "\n",
       "    .dataframe tbody tr th {\n",
       "        vertical-align: top;\n",
       "    }\n",
       "\n",
       "    .dataframe thead th {\n",
       "        text-align: right;\n",
       "    }\n",
       "</style>\n",
       "<table border=\"1\" class=\"dataframe\">\n",
       "  <thead>\n",
       "    <tr style=\"text-align: right;\">\n",
       "      <th></th>\n",
       "      <th>attributes,</th>\n",
       "      <th>min</th>\n",
       "      <th>max</th>\n",
       "      <th>range</th>\n",
       "      <th>mean</th>\n",
       "      <th>median</th>\n",
       "      <th>std</th>\n",
       "      <th>skew</th>\n",
       "      <th>kurtosis</th>\n",
       "    </tr>\n",
       "  </thead>\n",
       "  <tbody>\n",
       "    <tr>\n",
       "      <th>0</th>\n",
       "      <td>id</td>\n",
       "      <td>1.0</td>\n",
       "      <td>381109.0</td>\n",
       "      <td>381108.0</td>\n",
       "      <td>190555.000000</td>\n",
       "      <td>190555.0</td>\n",
       "      <td>110016.691870</td>\n",
       "      <td>9.443274e-16</td>\n",
       "      <td>-1.200000</td>\n",
       "    </tr>\n",
       "    <tr>\n",
       "      <th>1</th>\n",
       "      <td>age</td>\n",
       "      <td>20.0</td>\n",
       "      <td>85.0</td>\n",
       "      <td>65.0</td>\n",
       "      <td>38.822584</td>\n",
       "      <td>36.0</td>\n",
       "      <td>15.511591</td>\n",
       "      <td>6.725390e-01</td>\n",
       "      <td>-0.565655</td>\n",
       "    </tr>\n",
       "    <tr>\n",
       "      <th>2</th>\n",
       "      <td>driving_license</td>\n",
       "      <td>0.0</td>\n",
       "      <td>1.0</td>\n",
       "      <td>1.0</td>\n",
       "      <td>0.997869</td>\n",
       "      <td>1.0</td>\n",
       "      <td>0.046109</td>\n",
       "      <td>-2.159518e+01</td>\n",
       "      <td>464.354302</td>\n",
       "    </tr>\n",
       "    <tr>\n",
       "      <th>3</th>\n",
       "      <td>region_code</td>\n",
       "      <td>0.0</td>\n",
       "      <td>52.0</td>\n",
       "      <td>52.0</td>\n",
       "      <td>26.388807</td>\n",
       "      <td>28.0</td>\n",
       "      <td>13.229871</td>\n",
       "      <td>-1.152664e-01</td>\n",
       "      <td>-0.867857</td>\n",
       "    </tr>\n",
       "    <tr>\n",
       "      <th>4</th>\n",
       "      <td>previously_insured</td>\n",
       "      <td>0.0</td>\n",
       "      <td>1.0</td>\n",
       "      <td>1.0</td>\n",
       "      <td>0.458210</td>\n",
       "      <td>0.0</td>\n",
       "      <td>0.498251</td>\n",
       "      <td>1.677471e-01</td>\n",
       "      <td>-1.971871</td>\n",
       "    </tr>\n",
       "    <tr>\n",
       "      <th>5</th>\n",
       "      <td>annual_premium</td>\n",
       "      <td>2630.0</td>\n",
       "      <td>540165.0</td>\n",
       "      <td>537535.0</td>\n",
       "      <td>30564.389581</td>\n",
       "      <td>31669.0</td>\n",
       "      <td>17213.132474</td>\n",
       "      <td>1.766087e+00</td>\n",
       "      <td>34.004569</td>\n",
       "    </tr>\n",
       "    <tr>\n",
       "      <th>6</th>\n",
       "      <td>policy_sales_channel</td>\n",
       "      <td>1.0</td>\n",
       "      <td>163.0</td>\n",
       "      <td>162.0</td>\n",
       "      <td>112.034295</td>\n",
       "      <td>133.0</td>\n",
       "      <td>54.203924</td>\n",
       "      <td>-9.000081e-01</td>\n",
       "      <td>-0.970810</td>\n",
       "    </tr>\n",
       "    <tr>\n",
       "      <th>7</th>\n",
       "      <td>vintage</td>\n",
       "      <td>10.0</td>\n",
       "      <td>299.0</td>\n",
       "      <td>289.0</td>\n",
       "      <td>154.347397</td>\n",
       "      <td>154.0</td>\n",
       "      <td>83.671194</td>\n",
       "      <td>3.029517e-03</td>\n",
       "      <td>-1.200688</td>\n",
       "    </tr>\n",
       "    <tr>\n",
       "      <th>8</th>\n",
       "      <td>response</td>\n",
       "      <td>0.0</td>\n",
       "      <td>1.0</td>\n",
       "      <td>1.0</td>\n",
       "      <td>0.122563</td>\n",
       "      <td>0.0</td>\n",
       "      <td>0.327935</td>\n",
       "      <td>2.301906e+00</td>\n",
       "      <td>3.298788</td>\n",
       "    </tr>\n",
       "  </tbody>\n",
       "</table>\n",
       "</div>"
      ],
      "text/plain": [
       "            attributes,     min       max     range           mean    median  \\\n",
       "0                    id     1.0  381109.0  381108.0  190555.000000  190555.0   \n",
       "1                   age    20.0      85.0      65.0      38.822584      36.0   \n",
       "2       driving_license     0.0       1.0       1.0       0.997869       1.0   \n",
       "3           region_code     0.0      52.0      52.0      26.388807      28.0   \n",
       "4    previously_insured     0.0       1.0       1.0       0.458210       0.0   \n",
       "5        annual_premium  2630.0  540165.0  537535.0   30564.389581   31669.0   \n",
       "6  policy_sales_channel     1.0     163.0     162.0     112.034295     133.0   \n",
       "7               vintage    10.0     299.0     289.0     154.347397     154.0   \n",
       "8              response     0.0       1.0       1.0       0.122563       0.0   \n",
       "\n",
       "             std          skew    kurtosis  \n",
       "0  110016.691870  9.443274e-16   -1.200000  \n",
       "1      15.511591  6.725390e-01   -0.565655  \n",
       "2       0.046109 -2.159518e+01  464.354302  \n",
       "3      13.229871 -1.152664e-01   -0.867857  \n",
       "4       0.498251  1.677471e-01   -1.971871  \n",
       "5   17213.132474  1.766087e+00   34.004569  \n",
       "6      54.203924 -9.000081e-01   -0.970810  \n",
       "7      83.671194  3.029517e-03   -1.200688  \n",
       "8       0.327935  2.301906e+00    3.298788  "
      ]
     },
     "execution_count": 6,
     "metadata": {},
     "output_type": "execute_result"
    }
   ],
   "source": [
    "#Central Tendency - mean, median\n",
    "ct1 = pd.DataFrame(num_attributes.apply(np.mean)).T\n",
    "ct2 = pd.DataFrame(num_attributes.apply(np.median)).T\n",
    "\n",
    "#dispersion - std, min, max, range, skew, kurtosis\n",
    "d1 = pd.DataFrame(num_attributes.apply(np.std)).T\n",
    "d2 = pd.DataFrame(num_attributes.apply(min)).T\n",
    "d3 = pd.DataFrame(num_attributes.apply(max)).T\n",
    "d4 = pd.DataFrame(num_attributes.apply(lambda x: x.max() - x.min())).T\n",
    "d5 = pd.DataFrame(num_attributes.apply(lambda x: x.skew())).T\n",
    "d6 = pd.DataFrame(num_attributes.apply(lambda x: x.kurtosis())).T\n",
    "                  \n",
    "#concat\n",
    "m = pd.concat([d2, d3, d4, ct1, ct2, d1, d5, d6]).T.reset_index()\n",
    "m.columns = ['attributes,', 'min', 'max', 'range', 'mean', 'median', 'std', 'skew', 'kurtosis']\n",
    "m"
   ]
  },
  {
   "cell_type": "code",
   "execution_count": null,
   "id": "63f36b13",
   "metadata": {
    "hidden": true
   },
   "outputs": [],
   "source": []
  },
  {
   "cell_type": "code",
   "execution_count": null,
   "id": "cb2a938e",
   "metadata": {
    "hidden": true
   },
   "outputs": [],
   "source": []
  },
  {
   "cell_type": "code",
   "execution_count": null,
   "id": "8eb0878d",
   "metadata": {
    "hidden": true
   },
   "outputs": [],
   "source": []
  },
  {
   "cell_type": "markdown",
   "id": "109af79c",
   "metadata": {},
   "source": [
    "# 2.0. Feature Engineering"
   ]
  },
  {
   "cell_type": "code",
   "execution_count": 6,
   "id": "67a6577a",
   "metadata": {
    "ExecuteTime": {
     "end_time": "2022-08-17T00:12:09.957247Z",
     "start_time": "2022-08-17T00:12:09.939989Z"
    }
   },
   "outputs": [],
   "source": [
    "df2 = df1.copy()"
   ]
  },
  {
   "cell_type": "code",
   "execution_count": 7,
   "id": "1fe1f400",
   "metadata": {
    "ExecuteTime": {
     "end_time": "2022-08-17T00:12:12.204825Z",
     "start_time": "2022-08-17T00:12:11.979967Z"
    }
   },
   "outputs": [],
   "source": [
    "#vehicle age\n",
    "df2['vehicle_age'] = df2['vehicle_age'].apply(lambda x: 'over_2_years' if x == '> 2 Years' else 'between_1_2_year' \n",
    "                                                                       if x == '1-2 Year'  else 'below_1_year')\n",
    "\n",
    "\n",
    "#vehicle damage\n",
    "df2['vehicle_damage'] = df2['vehicle_damage'].apply(lambda x: 1 if x == 'Yes' else 0)"
   ]
  },
  {
   "cell_type": "code",
   "execution_count": 16,
   "id": "725bf4c0",
   "metadata": {
    "ExecuteTime": {
     "end_time": "2022-08-15T22:09:09.114950Z",
     "start_time": "2022-08-15T22:09:09.089967Z"
    }
   },
   "outputs": [
    {
     "data": {
      "text/html": [
       "<div>\n",
       "<style scoped>\n",
       "    .dataframe tbody tr th:only-of-type {\n",
       "        vertical-align: middle;\n",
       "    }\n",
       "\n",
       "    .dataframe tbody tr th {\n",
       "        vertical-align: top;\n",
       "    }\n",
       "\n",
       "    .dataframe thead th {\n",
       "        text-align: right;\n",
       "    }\n",
       "</style>\n",
       "<table border=\"1\" class=\"dataframe\">\n",
       "  <thead>\n",
       "    <tr style=\"text-align: right;\">\n",
       "      <th></th>\n",
       "      <th>id</th>\n",
       "      <th>gender</th>\n",
       "      <th>age</th>\n",
       "      <th>driving_license</th>\n",
       "      <th>region_code</th>\n",
       "      <th>previously_insured</th>\n",
       "      <th>vehicle_age</th>\n",
       "      <th>vehicle_damage</th>\n",
       "      <th>annual_premium</th>\n",
       "      <th>policy_sales_channel</th>\n",
       "      <th>vintage</th>\n",
       "      <th>response</th>\n",
       "    </tr>\n",
       "  </thead>\n",
       "  <tbody>\n",
       "    <tr>\n",
       "      <th>0</th>\n",
       "      <td>1</td>\n",
       "      <td>Male</td>\n",
       "      <td>44</td>\n",
       "      <td>1</td>\n",
       "      <td>28.0</td>\n",
       "      <td>0</td>\n",
       "      <td>over_2_years</td>\n",
       "      <td>1</td>\n",
       "      <td>40454.0</td>\n",
       "      <td>26.0</td>\n",
       "      <td>217</td>\n",
       "      <td>1</td>\n",
       "    </tr>\n",
       "    <tr>\n",
       "      <th>1</th>\n",
       "      <td>2</td>\n",
       "      <td>Male</td>\n",
       "      <td>76</td>\n",
       "      <td>1</td>\n",
       "      <td>3.0</td>\n",
       "      <td>0</td>\n",
       "      <td>between_1_2_year</td>\n",
       "      <td>0</td>\n",
       "      <td>33536.0</td>\n",
       "      <td>26.0</td>\n",
       "      <td>183</td>\n",
       "      <td>0</td>\n",
       "    </tr>\n",
       "    <tr>\n",
       "      <th>2</th>\n",
       "      <td>3</td>\n",
       "      <td>Male</td>\n",
       "      <td>47</td>\n",
       "      <td>1</td>\n",
       "      <td>28.0</td>\n",
       "      <td>0</td>\n",
       "      <td>over_2_years</td>\n",
       "      <td>1</td>\n",
       "      <td>38294.0</td>\n",
       "      <td>26.0</td>\n",
       "      <td>27</td>\n",
       "      <td>1</td>\n",
       "    </tr>\n",
       "    <tr>\n",
       "      <th>3</th>\n",
       "      <td>4</td>\n",
       "      <td>Male</td>\n",
       "      <td>21</td>\n",
       "      <td>1</td>\n",
       "      <td>11.0</td>\n",
       "      <td>1</td>\n",
       "      <td>below_1_year</td>\n",
       "      <td>0</td>\n",
       "      <td>28619.0</td>\n",
       "      <td>152.0</td>\n",
       "      <td>203</td>\n",
       "      <td>0</td>\n",
       "    </tr>\n",
       "    <tr>\n",
       "      <th>4</th>\n",
       "      <td>5</td>\n",
       "      <td>Female</td>\n",
       "      <td>29</td>\n",
       "      <td>1</td>\n",
       "      <td>41.0</td>\n",
       "      <td>1</td>\n",
       "      <td>below_1_year</td>\n",
       "      <td>0</td>\n",
       "      <td>27496.0</td>\n",
       "      <td>152.0</td>\n",
       "      <td>39</td>\n",
       "      <td>0</td>\n",
       "    </tr>\n",
       "  </tbody>\n",
       "</table>\n",
       "</div>"
      ],
      "text/plain": [
       "   id  gender  age  driving_license  region_code  previously_insured  \\\n",
       "0   1    Male   44                1         28.0                   0   \n",
       "1   2    Male   76                1          3.0                   0   \n",
       "2   3    Male   47                1         28.0                   0   \n",
       "3   4    Male   21                1         11.0                   1   \n",
       "4   5  Female   29                1         41.0                   1   \n",
       "\n",
       "        vehicle_age  vehicle_damage  annual_premium  policy_sales_channel  \\\n",
       "0      over_2_years               1         40454.0                  26.0   \n",
       "1  between_1_2_year               0         33536.0                  26.0   \n",
       "2      over_2_years               1         38294.0                  26.0   \n",
       "3      below_1_year               0         28619.0                 152.0   \n",
       "4      below_1_year               0         27496.0                 152.0   \n",
       "\n",
       "   vintage  response  \n",
       "0      217         1  \n",
       "1      183         0  \n",
       "2       27         1  \n",
       "3      203         0  \n",
       "4       39         0  "
      ]
     },
     "execution_count": 16,
     "metadata": {},
     "output_type": "execute_result"
    }
   ],
   "source": [
    "df2.head()"
   ]
  },
  {
   "cell_type": "markdown",
   "id": "4870a812",
   "metadata": {},
   "source": [
    "# 3.0. Data Filtering"
   ]
  },
  {
   "cell_type": "code",
   "execution_count": 8,
   "id": "d6051f62",
   "metadata": {
    "ExecuteTime": {
     "end_time": "2022-08-17T00:12:17.943993Z",
     "start_time": "2022-08-17T00:12:17.908300Z"
    }
   },
   "outputs": [],
   "source": [
    "df3 = df2.copy()"
   ]
  },
  {
   "cell_type": "markdown",
   "id": "4998c1c3",
   "metadata": {},
   "source": [
    "# 4.0. EDA"
   ]
  },
  {
   "cell_type": "code",
   "execution_count": 9,
   "id": "f5984d9a",
   "metadata": {
    "ExecuteTime": {
     "end_time": "2022-08-17T00:12:19.185871Z",
     "start_time": "2022-08-17T00:12:19.163887Z"
    }
   },
   "outputs": [],
   "source": [
    "df4 = df3.copy()"
   ]
  },
  {
   "cell_type": "markdown",
   "id": "52e63c1e",
   "metadata": {},
   "source": [
    "## 4.1. Univariate Analysis"
   ]
  },
  {
   "cell_type": "code",
   "execution_count": 15,
   "id": "d474aca0",
   "metadata": {
    "ExecuteTime": {
     "end_time": "2022-08-08T18:02:49.719250Z",
     "start_time": "2022-08-08T18:02:49.496386Z"
    }
   },
   "outputs": [
    {
     "data": {
      "text/plain": [
       "<AxesSubplot:xlabel='response', ylabel='age'>"
      ]
     },
     "execution_count": 15,
     "metadata": {},
     "output_type": "execute_result"
    },
    {
     "data": {
      "image/png": "[encoded data removed]",
      "text/plain": [
       "<Figure size 432x288 with 1 Axes>"
      ]
     },
     "metadata": {
      "needs_background": "light"
     },
     "output_type": "display_data"
    }
   ],
   "source": [
    "#'age'\n",
    "sns.boxplot( x = 'response', y = 'age', data=df4)"
   ]
  },
  {
   "cell_type": "code",
   "execution_count": 17,
   "id": "f8a3dbdb",
   "metadata": {
    "ExecuteTime": {
     "end_time": "2022-08-08T13:54:56.083875Z",
     "start_time": "2022-08-08T13:54:55.316347Z"
    }
   },
   "outputs": [
    {
     "data": {
      "text/plain": [
       "<AxesSubplot:xlabel='age', ylabel='Count'>"
      ]
     },
     "execution_count": 17,
     "metadata": {},
     "output_type": "execute_result"
    },
    {
     "data": {
      "image/png": "[encoded data removed]",
      "text/plain": [
       "<Figure size 432x288 with 2 Axes>"
      ]
     },
     "metadata": {
      "needs_background": "light"
     },
     "output_type": "display_data"
    }
   ],
   "source": [
    "aux00 = df4.loc[df4['response'] == 0, 'age']\n",
    "plt.subplot(1, 2, 1)\n",
    "sns.histplot(aux00)\n",
    "\n",
    "aux01 = df4.loc[df4['response'] == 1, 'age']\n",
    "plt.subplot(1, 2, 2)\n",
    "sns.histplot(aux01)"
   ]
  },
  {
   "cell_type": "code",
   "execution_count": 41,
   "id": "a4c3e0ce",
   "metadata": {
    "ExecuteTime": {
     "end_time": "2022-08-04T02:11:43.288157Z",
     "start_time": "2022-08-04T02:11:43.048775Z"
    }
   },
   "outputs": [
    {
     "data": {
      "text/plain": [
       "<AxesSubplot:xlabel='response', ylabel='annual_premium'>"
      ]
     },
     "execution_count": 41,
     "metadata": {},
     "output_type": "execute_result"
    },
    {
     "data": {
      "image/png": "[encoded data removed]",
      "text/plain": [
       "<Figure size 432x288 with 1 Axes>"
      ]
     },
     "metadata": {
      "needs_background": "light"
     },
     "output_type": "display_data"
    }
   ],
   "source": [
    "#'annual_premium'   \n",
    "aux = df4[df4['annual_premium'] < 80000]\n",
    "\n",
    "sns.boxplot( x = 'response', y = 'annual_premium', data=aux)\n",
    "\n"
   ]
  },
  {
   "cell_type": "code",
   "execution_count": 48,
   "id": "04490760",
   "metadata": {
    "ExecuteTime": {
     "end_time": "2022-08-04T02:19:28.674188Z",
     "start_time": "2022-08-04T02:19:27.980615Z"
    }
   },
   "outputs": [
    {
     "data": {
      "text/plain": [
       "<AxesSubplot:xlabel='annual_premium', ylabel='Count'>"
      ]
     },
     "execution_count": 48,
     "metadata": {},
     "output_type": "execute_result"
    },
    {
     "data": {
      "image/png": "[encoded data removed]",
      "text/plain": [
       "<Figure size 432x288 with 1 Axes>"
      ]
     },
     "metadata": {
      "needs_background": "light"
     },
     "output_type": "display_data"
    }
   ],
   "source": [
    "aux =df4[(df4['annual_premium'] > 10000) & (df4['annual_premium'] < 80000)]\n",
    "\n",
    "aux00 = aux.loc[aux['response'] == 0, 'annual_premium']\n",
    "sns.histplot(aux00)"
   ]
  },
  {
   "cell_type": "code",
   "execution_count": 18,
   "id": "19bd1e7f",
   "metadata": {
    "ExecuteTime": {
     "end_time": "2022-08-08T13:56:39.876172Z",
     "start_time": "2022-08-08T13:56:39.498932Z"
    }
   },
   "outputs": [
    {
     "data": {
      "text/plain": [
       "<AxesSubplot:xlabel='annual_premium', ylabel='Count'>"
      ]
     },
     "execution_count": 18,
     "metadata": {},
     "output_type": "execute_result"
    },
    {
     "data": {
      "image/png": "[encoded data removed]",
      "text/plain": [
       "<Figure size 432x288 with 1 Axes>"
      ]
     },
     "metadata": {
      "needs_background": "light"
     },
     "output_type": "display_data"
    }
   ],
   "source": [
    "aux =df4[(df4['annual_premium'] > 10000) & (df4['annual_premium'] < 80000)]\n",
    "\n",
    "aux01 = aux.loc[aux['response'] == 1, 'annual_premium']\n",
    "sns.histplot(aux01)"
   ]
  },
  {
   "cell_type": "code",
   "execution_count": 20,
   "id": "c173b899",
   "metadata": {
    "ExecuteTime": {
     "end_time": "2022-08-08T13:57:22.033282Z",
     "start_time": "2022-08-08T13:57:21.715471Z"
    }
   },
   "outputs": [
    {
     "data": {
      "image/png": "[encoded data removed]",
      "text/plain": [
       "<Figure size 432x288 with 1 Axes>"
      ]
     },
     "metadata": {
      "needs_background": "light"
     },
     "output_type": "display_data"
    }
   ],
   "source": [
    "aux00 = aux.loc[aux['response'] == 1, 'annual_premium']\n",
    "sns.histplot( aux00 );"
   ]
  },
  {
   "cell_type": "code",
   "execution_count": 45,
   "id": "6e645838",
   "metadata": {
    "ExecuteTime": {
     "end_time": "2022-08-08T14:49:25.796850Z",
     "start_time": "2022-08-08T14:49:25.659934Z"
    }
   },
   "outputs": [
    {
     "data": {
      "text/plain": [
       "<AxesSubplot:xlabel='response', ylabel='driving_license'>"
      ]
     },
     "execution_count": 45,
     "metadata": {},
     "output_type": "execute_result"
    },
    {
     "data": {
      "image/png": "[encoded data removed]",
      "text/plain": [
       "<Figure size 432x288 with 1 Axes>"
      ]
     },
     "metadata": {
      "needs_background": "light"
     },
     "output_type": "display_data"
    }
   ],
   "source": [
    "#'driving_license'\n",
    "aux = df4[['driving_license', 'response']].groupby('response').sum().reset_index()\n",
    "sns.barplot(x='response', y='driving_license', data = aux)"
   ]
  },
  {
   "cell_type": "code",
   "execution_count": 54,
   "id": "051a342c",
   "metadata": {
    "ExecuteTime": {
     "end_time": "2022-08-04T03:01:49.250853Z",
     "start_time": "2022-08-04T03:01:49.011001Z"
    }
   },
   "outputs": [
    {
     "data": {
      "text/plain": [
       "<AxesSubplot:xlabel='region_code', ylabel='id'>"
      ]
     },
     "execution_count": 54,
     "metadata": {},
     "output_type": "execute_result"
    },
    {
     "data": {
      "image/png": "[encoded data removed]",
      "text/plain": [
       "<Figure size 432x288 with 1 Axes>"
      ]
     },
     "metadata": {
      "needs_background": "light"
     },
     "output_type": "display_data"
    }
   ],
   "source": [
    "#'region_code'\n",
    "aux0 = df4[['id', 'region_code', 'response']].groupby(['region_code', 'response']).count().reset_index()\n",
    "sns.scatterplot(x = 'region_code', y='id', hue='response', data=aux0)"
   ]
  },
  {
   "cell_type": "code",
   "execution_count": 22,
   "id": "2d97ac2b",
   "metadata": {
    "ExecuteTime": {
     "end_time": "2022-08-08T14:11:42.262473Z",
     "start_time": "2022-08-08T14:11:42.189517Z"
    }
   },
   "outputs": [
    {
     "data": {
      "text/html": [
       "<div>\n",
       "<style scoped>\n",
       "    .dataframe tbody tr th:only-of-type {\n",
       "        vertical-align: middle;\n",
       "    }\n",
       "\n",
       "    .dataframe tbody tr th {\n",
       "        vertical-align: top;\n",
       "    }\n",
       "\n",
       "    .dataframe thead th {\n",
       "        text-align: right;\n",
       "    }\n",
       "</style>\n",
       "<table border=\"1\" class=\"dataframe\">\n",
       "  <thead>\n",
       "    <tr style=\"text-align: right;\">\n",
       "      <th>response</th>\n",
       "      <th>0</th>\n",
       "      <th>1</th>\n",
       "    </tr>\n",
       "    <tr>\n",
       "      <th>vehicle_damage</th>\n",
       "      <th></th>\n",
       "      <th></th>\n",
       "    </tr>\n",
       "  </thead>\n",
       "  <tbody>\n",
       "    <tr>\n",
       "      <th>0</th>\n",
       "      <td>99.48</td>\n",
       "      <td>0.52</td>\n",
       "    </tr>\n",
       "    <tr>\n",
       "      <th>1</th>\n",
       "      <td>76.23</td>\n",
       "      <td>23.77</td>\n",
       "    </tr>\n",
       "  </tbody>\n",
       "</table>\n",
       "</div>"
      ],
      "text/plain": [
       "response            0      1\n",
       "vehicle_damage              \n",
       "0               99.48   0.52\n",
       "1               76.23  23.77"
      ]
     },
     "execution_count": 22,
     "metadata": {},
     "output_type": "execute_result"
    }
   ],
   "source": [
    "#'vehicle_damage'\n",
    "\n",
    "pd.crosstab(df4['vehicle_damage'], df4['response']).apply(lambda x: round((x/x.sum())*100, 2), axis = 1)"
   ]
  },
  {
   "cell_type": "code",
   "execution_count": null,
   "id": "a22faf0f",
   "metadata": {
    "ExecuteTime": {
     "start_time": "2022-08-17T04:01:58.941Z"
    }
   },
   "outputs": [],
   "source": [
    "aux00 =train.groupby(['Vehicle_Damage','Response'])['id'].count().to_frame().rename(columns={'id':'count'}).reset_index()"
   ]
  },
  {
   "cell_type": "code",
   "execution_count": null,
   "id": "e4adb46a",
   "metadata": {},
   "outputs": [],
   "source": [
    "g = sns.catplot(x=\"Vehicle_Damage\", y=\"count\",col=\"Response\",\n",
    "                data=df, kind=\"bar\",\n",
    "                height=4, aspect=.7);"
   ]
  },
  {
   "cell_type": "code",
   "execution_count": 41,
   "id": "78c478e7",
   "metadata": {
    "ExecuteTime": {
     "end_time": "2022-08-08T14:44:33.389845Z",
     "start_time": "2022-08-08T14:44:33.327882Z"
    }
   },
   "outputs": [
    {
     "data": {
      "text/html": [
       "<div>\n",
       "<style scoped>\n",
       "    .dataframe tbody tr th:only-of-type {\n",
       "        vertical-align: middle;\n",
       "    }\n",
       "\n",
       "    .dataframe tbody tr th {\n",
       "        vertical-align: top;\n",
       "    }\n",
       "\n",
       "    .dataframe thead th {\n",
       "        text-align: right;\n",
       "    }\n",
       "</style>\n",
       "<table border=\"1\" class=\"dataframe\">\n",
       "  <thead>\n",
       "    <tr style=\"text-align: right;\">\n",
       "      <th>response</th>\n",
       "      <th>0</th>\n",
       "      <th>1</th>\n",
       "    </tr>\n",
       "    <tr>\n",
       "      <th>previously_insured</th>\n",
       "      <th></th>\n",
       "      <th></th>\n",
       "    </tr>\n",
       "  </thead>\n",
       "  <tbody>\n",
       "    <tr>\n",
       "      <th>0</th>\n",
       "      <td>0.774546</td>\n",
       "      <td>0.225454</td>\n",
       "    </tr>\n",
       "    <tr>\n",
       "      <th>1</th>\n",
       "      <td>0.999095</td>\n",
       "      <td>0.000905</td>\n",
       "    </tr>\n",
       "  </tbody>\n",
       "</table>\n",
       "</div>"
      ],
      "text/plain": [
       "response                   0         1\n",
       "previously_insured                    \n",
       "0                   0.774546  0.225454\n",
       "1                   0.999095  0.000905"
      ]
     },
     "execution_count": 41,
     "metadata": {},
     "output_type": "execute_result"
    }
   ],
   "source": [
    "#'previously_insured'\n",
    "pd.crosstab( df4['previously_insured'], df4['response'] ).apply( lambda x: x / x.sum(), axis=1 )"
   ]
  },
  {
   "cell_type": "code",
   "execution_count": 40,
   "id": "35d3f04e",
   "metadata": {
    "ExecuteTime": {
     "end_time": "2022-08-08T14:38:35.460479Z",
     "start_time": "2022-08-08T14:38:35.369535Z"
    }
   },
   "outputs": [
    {
     "data": {
      "text/html": [
       "<div>\n",
       "<style scoped>\n",
       "    .dataframe tbody tr th:only-of-type {\n",
       "        vertical-align: middle;\n",
       "    }\n",
       "\n",
       "    .dataframe tbody tr th {\n",
       "        vertical-align: top;\n",
       "    }\n",
       "\n",
       "    .dataframe thead th {\n",
       "        text-align: right;\n",
       "    }\n",
       "</style>\n",
       "<table border=\"1\" class=\"dataframe\">\n",
       "  <thead>\n",
       "    <tr style=\"text-align: right;\">\n",
       "      <th>response</th>\n",
       "      <th>0</th>\n",
       "      <th>1</th>\n",
       "    </tr>\n",
       "    <tr>\n",
       "      <th>vehicle_age</th>\n",
       "      <th></th>\n",
       "      <th></th>\n",
       "    </tr>\n",
       "  </thead>\n",
       "  <tbody>\n",
       "    <tr>\n",
       "      <th>below_1_year</th>\n",
       "      <td>95.63</td>\n",
       "      <td>4.37</td>\n",
       "    </tr>\n",
       "    <tr>\n",
       "      <th>between_1_2_year</th>\n",
       "      <td>82.62</td>\n",
       "      <td>17.38</td>\n",
       "    </tr>\n",
       "    <tr>\n",
       "      <th>over_2_years</th>\n",
       "      <td>70.63</td>\n",
       "      <td>29.37</td>\n",
       "    </tr>\n",
       "  </tbody>\n",
       "</table>\n",
       "</div>"
      ],
      "text/plain": [
       "response              0      1\n",
       "vehicle_age                   \n",
       "below_1_year      95.63   4.37\n",
       "between_1_2_year  82.62  17.38\n",
       "over_2_years      70.63  29.37"
      ]
     },
     "execution_count": 40,
     "metadata": {},
     "output_type": "execute_result"
    }
   ],
   "source": [
    "#'vehicle_age'\n",
    "pd.crosstab(df4['vehicle_age'], df4['response']).apply(lambda x: round((x/x.sum())*100, 2), axis = 1)"
   ]
  },
  {
   "cell_type": "code",
   "execution_count": 47,
   "id": "5cf172b0",
   "metadata": {
    "ExecuteTime": {
     "end_time": "2022-08-08T14:53:25.234215Z",
     "start_time": "2022-08-08T14:53:23.650448Z"
    }
   },
   "outputs": [
    {
     "data": {
      "image/png": "[encoded data removed]",
      "text/plain": [
       "<Figure size 1728x864 with 1 Axes>"
      ]
     },
     "metadata": {
      "needs_background": "light"
     },
     "output_type": "display_data"
    }
   ],
   "source": [
    "#'policy_sales_channel'\n",
    "plt.figure( figsize=(24, 12 ))\n",
    "aux = df4[['policy_sales_channel', 'response']].groupby( 'policy_sales_channel').sum().reset_index()\n",
    "sns.barplot( x='response', y='policy_sales_channel', data=aux );"
   ]
  },
  {
   "cell_type": "code",
   "execution_count": 48,
   "id": "6bf23c17",
   "metadata": {
    "ExecuteTime": {
     "end_time": "2022-08-08T14:54:46.804125Z",
     "start_time": "2022-08-08T14:54:46.498313Z"
    }
   },
   "outputs": [
    {
     "data": {
      "image/png": "[encoded data removed]",
      "text/plain": [
       "<Figure size 1440x360 with 1 Axes>"
      ]
     },
     "metadata": {
      "needs_background": "light"
     },
     "output_type": "display_data"
    }
   ],
   "source": [
    "aux = df4[['policy_sales_channel', 'id', 'response']].groupby(['policy_sales_channel', 'response']).count().reset_index()\n",
    "aux['response'] = aux['response'].map({0:'not interested', 1:'interested'})\n",
    "plt.figure(figsize=(20,5))\n",
    "ax = sns.scatterplot(x='policy_sales_channel', y = 'id', hue = 'response', data = aux, s=20)\n",
    "ax.set_title('interested/not interested customers per policy_sales_channel\\n')\n",
    "ax.legend(title='')\n",
    "ax.set_ylabel('');"
   ]
  },
  {
   "cell_type": "code",
   "execution_count": 49,
   "id": "1c6269d3",
   "metadata": {
    "ExecuteTime": {
     "end_time": "2022-08-08T14:59:07.528183Z",
     "start_time": "2022-08-08T14:59:07.344298Z"
    }
   },
   "outputs": [
    {
     "data": {
      "image/png": "[encoded data removed]",
      "text/plain": [
       "<Figure size 432x288 with 1 Axes>"
      ]
     },
     "metadata": {
      "needs_background": "light"
     },
     "output_type": "display_data"
    }
   ],
   "source": [
    "#'vintage'\n",
    "ax = sns.boxplot(x = 'response', y= 'vintage', data = df4)\n",
    "ax.set_xticklabels(['not interested', 'interested']);\n",
    "ax.set_title('vintage of customers and their interests about vehicle insurance\\n');"
   ]
  },
  {
   "cell_type": "markdown",
   "id": "046eb350",
   "metadata": {},
   "source": [
    "# 5.0. Data Preparation"
   ]
  },
  {
   "cell_type": "code",
   "execution_count": 105,
   "id": "6bcefe3f",
   "metadata": {
    "ExecuteTime": {
     "end_time": "2022-08-17T03:04:30.722464Z",
     "start_time": "2022-08-17T03:04:30.695035Z"
    }
   },
   "outputs": [],
   "source": [
    "df5 = df4.copy()"
   ]
  },
  {
   "cell_type": "code",
   "execution_count": 106,
   "id": "6f97c778",
   "metadata": {
    "ExecuteTime": {
     "end_time": "2022-08-17T03:04:43.196411Z",
     "start_time": "2022-08-17T03:04:43.062972Z"
    }
   },
   "outputs": [],
   "source": [
    "X = df4.drop( 'response', axis=1 )\n",
    "y = df4['response'].copy() \n",
    "\n",
    "x_train, x_validation, y_train, y_validation = ms.train_test_split( X, y, test_size=0.20 )\n",
    "\n",
    "df5 = pd.concat( [x_train, y_train], axis=1 )"
   ]
  },
  {
   "cell_type": "markdown",
   "id": "72f1f35a",
   "metadata": {},
   "source": [
    "## 5.1 Standardization"
   ]
  },
  {
   "cell_type": "code",
   "execution_count": 107,
   "id": "82d1a7ff",
   "metadata": {
    "ExecuteTime": {
     "end_time": "2022-08-17T03:04:46.247835Z",
     "start_time": "2022-08-17T03:04:46.237841Z"
    }
   },
   "outputs": [],
   "source": [
    "ss = pp.StandardScaler()\n",
    "\n",
    "# anual premium - StandarScaler\n",
    "#df5['annual_premium'] = ss.fit_transform( df5[['annual_premium']].values )\n",
    "#pickle.dump( ss, open( '../src/features/annual_premium_scaler.pkl', 'wb' ) )\n",
    "\n",
    "# Age - MinMaxScaler\n",
    "#df5['age'] = ss.fit_transform( df5[['age']].values )\n",
    "\n",
    "\n",
    "# Vintage - MinMaxScaler\n",
    "#df5['vintage'] = ss.fit_transform( df5[['vintage']].values )"
   ]
  },
  {
   "cell_type": "code",
   "execution_count": null,
   "id": "70c51e8a",
   "metadata": {},
   "outputs": [],
   "source": []
  },
  {
   "cell_type": "markdown",
   "id": "22a9e9ec",
   "metadata": {},
   "source": [
    "## 5.2 Rescaling"
   ]
  },
  {
   "cell_type": "code",
   "execution_count": 108,
   "id": "503c91b3",
   "metadata": {
    "ExecuteTime": {
     "end_time": "2022-08-17T03:04:48.896908Z",
     "start_time": "2022-08-17T03:04:48.814103Z"
    }
   },
   "outputs": [],
   "source": [
    "mms_age = pp.MinMaxScaler()\n",
    "mms_vintage = pp.MinMaxScaler()\n",
    "mms_annual = pp.MinMaxScaler()\n",
    "\n",
    "# Age - MinMaxScaler\n",
    "df5['age'] = mms_age.fit_transform( df5[['age']].values )\n",
    "#pickle.dump( mms_age, open( '../src/features/age_scaler.pkl', 'wb' ) )\n",
    "\n",
    "# Vintage - MinMaxScaler\n",
    "df5['vintage'] = mms_vintage.fit_transform( df5[['vintage']].values )\n",
    "#pickle.dump( mms_vintage, open( '../src/features/vintage_scaler.pkl', 'wb' ) )\n",
    "\n",
    "# Annual Premium - MinMaxScaler\n",
    "df5['annual_premium'] = mms_annual.fit_transform( df5[['annual_premium']].values )\n",
    "pickle.dump( mms_annual, open( '../src/features/annual_premium_scaler2.pkl', 'wb' ) )"
   ]
  },
  {
   "cell_type": "markdown",
   "id": "c84f5f95",
   "metadata": {},
   "source": [
    "## 5.3 Transformation"
   ]
  },
  {
   "cell_type": "markdown",
   "id": "78796134",
   "metadata": {},
   "source": [
    "### 5.3.1 Encoding"
   ]
  },
  {
   "cell_type": "code",
   "execution_count": 109,
   "id": "4bd7045d",
   "metadata": {
    "ExecuteTime": {
     "end_time": "2022-08-17T03:04:55.348814Z",
     "start_time": "2022-08-17T03:04:55.174282Z"
    }
   },
   "outputs": [],
   "source": [
    " # gender - One Hot Encoding / Target Encoding\n",
    "target_encode_gender = df5.groupby( 'gender' )['response'].mean()\n",
    "df5.loc[:, 'gender'] = df5['gender'].map( target_encode_gender )\n",
    "#pickle.dump( target_encode_gender, open( '../src/features/target_encode_gender_scaler.pkl', 'wb' ) )\n",
    "#df5['gender'] = df5['gender'].map( {'Female': 0, 'Male': 1} ).astype(int)\n",
    "\n",
    "# region_code - Target Encoding / Frequency Encoding\n",
    "target_encode_region_code = df5.groupby( 'region_code' )['response'].mean()\n",
    "df5.loc[:, 'region_code'] = df5['region_code'].map( target_encode_region_code )\n",
    "pickle.dump( target_encode_region_code, open( '../src/features/target_encode_region_code_scaler.pkl', 'wb' ) )\n",
    "\n",
    "# vehicle_age - One Hot Encoding / Frequency Encoding\n",
    "df5 = pd.get_dummies( df5, prefix='vehicle_age', columns=['vehicle_age'] )\n",
    "df5['vehicle_age_below_1_year']=df5['vehicle_age_below_1_year'].astype(int)\n",
    "df5['vehicle_age_between_1_2_year']=df5['vehicle_age_between_1_2_year'].astype(int)\n",
    "df5['vehicle_age_over_2_years']=df5['vehicle_age_over_2_years'].astype(int)\n",
    "\n",
    "\n",
    "# policy_sales_channel - Target Encoding / Frequency Encoding\n",
    "fe_policy_sales_channel = df5.groupby( 'policy_sales_channel' ).size() / len( df5 ) \n",
    "df5.loc[:, 'policy_sales_channel'] = df5['policy_sales_channel'].map( fe_policy_sales_channel )\n",
    "pickle.dump( fe_policy_sales_channel, open( '../src/features/fe_policy_sales_channel_scaler.pkl', 'wb' ) )"
   ]
  },
  {
   "cell_type": "code",
   "execution_count": 110,
   "id": "779e3ef7",
   "metadata": {
    "ExecuteTime": {
     "end_time": "2022-08-17T03:05:35.061863Z",
     "start_time": "2022-08-17T03:05:35.046872Z"
    }
   },
   "outputs": [
    {
     "data": {
      "text/plain": [
       "id                              0\n",
       "gender                          0\n",
       "age                             0\n",
       "driving_license                 0\n",
       "region_code                     0\n",
       "previously_insured              0\n",
       "vehicle_damage                  0\n",
       "annual_premium                  0\n",
       "policy_sales_channel            0\n",
       "vintage                         0\n",
       "response                        0\n",
       "vehicle_age_below_1_year        0\n",
       "vehicle_age_between_1_2_year    0\n",
       "vehicle_age_over_2_years        0\n",
       "dtype: int64"
      ]
     },
     "execution_count": 110,
     "metadata": {},
     "output_type": "execute_result"
    }
   ],
   "source": [
    "df5.isna().sum()"
   ]
  },
  {
   "cell_type": "markdown",
   "id": "363ac8b4",
   "metadata": {},
   "source": [
    "## 5.4 Validation Preparation"
   ]
  },
  {
   "cell_type": "code",
   "execution_count": 111,
   "id": "9da6f48a",
   "metadata": {
    "ExecuteTime": {
     "end_time": "2022-08-17T03:05:45.755716Z",
     "start_time": "2022-08-17T03:05:45.653708Z"
    }
   },
   "outputs": [],
   "source": [
    "# gender\n",
    "#x_validation.loc[:, 'gender'] =  x_validation.loc[:, 'gender'].map( target_encode_gender )\n",
    "x_validation.loc[:, 'gender'] = x_validation.loc[:,'gender'].map( {'Female': 0, 'Male': 1} ).astype(int)\n",
    "\n",
    "# age\n",
    "x_validation.loc[:, 'age'] = mms_age.transform( x_validation[['age']].values )\n",
    "#x_validation.loc[:, 'age'] = ss.transform( x_validation[['age']].values )\n",
    "\n",
    "# region_code\n",
    "x_validation.loc[:, 'region_code'] = x_validation.loc[:, 'region_code'].map( target_encode_region_code )\n",
    "\n",
    "# vehicle_age\n",
    "x_validation = pd.get_dummies( x_validation, prefix='vehicle_age', columns=['vehicle_age'] )\n",
    "x_validation['vehicle_age_below_1_year']=x_validation['vehicle_age_below_1_year'].astype(int)\n",
    "x_validation['vehicle_age_between_1_2_year']=x_validation['vehicle_age_between_1_2_year'].astype(int)\n",
    "x_validation['vehicle_age_over_2_years']=x_validation['vehicle_age_over_2_years'].astype(int)\n",
    "\n",
    "# annual_premium\n",
    "#x_validation.loc[:, 'annual_premium'] = ss.transform( x_validation[['annual_premium']].values )\n",
    "x_validation.loc[:, 'annual_premium'] = mms_annual.transform( x_validation[['annual_premium']].values )\n",
    "\n",
    "# policy_sales_channel\n",
    "x_validation.loc[:, 'policy_sales_channel'] = x_validation['policy_sales_channel'].map( fe_policy_sales_channel )\n",
    "\n",
    "# vintage\n",
    "x_validation.loc[:, 'vintage'] = mms_vintage.transform( x_validation[['vintage']].values )\n",
    "#x_validation.loc[:, 'vintage'] = ss.transform( x_validation[['vintage']].values )\n",
    "\n",
    "# fillna\n",
    "x_validation = x_validation.fillna( 0 )"
   ]
  },
  {
   "cell_type": "markdown",
   "id": "5ac829c4",
   "metadata": {},
   "source": [
    "# 6.0. Feature Selection"
   ]
  },
  {
   "cell_type": "markdown",
   "id": "b900eb10",
   "metadata": {
    "heading_collapsed": true
   },
   "source": [
    "## 6.1 Boruta Algorithm"
   ]
  },
  {
   "cell_type": "code",
   "execution_count": 71,
   "id": "2d6e9a44",
   "metadata": {
    "ExecuteTime": {
     "end_time": "2022-08-08T17:41:27.840874Z",
     "start_time": "2022-08-08T17:34:23.196874Z"
    },
    "hidden": true
   },
   "outputs": [
    {
     "name": "stdout",
     "output_type": "stream",
     "text": [
      "Iteration: \t1 / 100\n",
      "Confirmed: \t0\n",
      "Tentative: \t12\n",
      "Rejected: \t0\n",
      "Iteration: \t2 / 100\n",
      "Confirmed: \t0\n",
      "Tentative: \t12\n",
      "Rejected: \t0\n",
      "Iteration: \t3 / 100\n",
      "Confirmed: \t0\n",
      "Tentative: \t12\n",
      "Rejected: \t0\n",
      "Iteration: \t4 / 100\n",
      "Confirmed: \t0\n",
      "Tentative: \t12\n",
      "Rejected: \t0\n",
      "Iteration: \t5 / 100\n",
      "Confirmed: \t0\n",
      "Tentative: \t12\n",
      "Rejected: \t0\n",
      "Iteration: \t6 / 100\n",
      "Confirmed: \t0\n",
      "Tentative: \t12\n",
      "Rejected: \t0\n",
      "Iteration: \t7 / 100\n",
      "Confirmed: \t0\n",
      "Tentative: \t12\n",
      "Rejected: \t0\n",
      "Iteration: \t8 / 100\n",
      "Confirmed: \t1\n",
      "Tentative: \t1\n",
      "Rejected: \t10\n",
      "Iteration: \t9 / 100\n",
      "Confirmed: \t1\n",
      "Tentative: \t1\n",
      "Rejected: \t10\n",
      "Iteration: \t10 / 100\n",
      "Confirmed: \t1\n",
      "Tentative: \t1\n",
      "Rejected: \t10\n",
      "Iteration: \t11 / 100\n",
      "Confirmed: \t1\n",
      "Tentative: \t1\n",
      "Rejected: \t10\n",
      "Iteration: \t12 / 100\n",
      "Confirmed: \t1\n",
      "Tentative: \t1\n",
      "Rejected: \t10\n",
      "Iteration: \t13 / 100\n",
      "Confirmed: \t1\n",
      "Tentative: \t1\n",
      "Rejected: \t10\n",
      "Iteration: \t14 / 100\n",
      "Confirmed: \t1\n",
      "Tentative: \t1\n",
      "Rejected: \t10\n",
      "Iteration: \t15 / 100\n",
      "Confirmed: \t1\n",
      "Tentative: \t1\n",
      "Rejected: \t10\n",
      "Iteration: \t16 / 100\n",
      "Confirmed: \t1\n",
      "Tentative: \t1\n",
      "Rejected: \t10\n",
      "Iteration: \t17 / 100\n",
      "Confirmed: \t1\n",
      "Tentative: \t1\n",
      "Rejected: \t10\n",
      "Iteration: \t18 / 100\n",
      "Confirmed: \t1\n",
      "Tentative: \t1\n",
      "Rejected: \t10\n",
      "Iteration: \t19 / 100\n",
      "Confirmed: \t1\n",
      "Tentative: \t1\n",
      "Rejected: \t10\n",
      "Iteration: \t20 / 100\n",
      "Confirmed: \t1\n",
      "Tentative: \t1\n",
      "Rejected: \t10\n",
      "Iteration: \t21 / 100\n",
      "Confirmed: \t1\n",
      "Tentative: \t1\n",
      "Rejected: \t10\n",
      "Iteration: \t22 / 100\n",
      "Confirmed: \t1\n",
      "Tentative: \t1\n",
      "Rejected: \t10\n",
      "Iteration: \t23 / 100\n",
      "Confirmed: \t1\n",
      "Tentative: \t1\n",
      "Rejected: \t10\n",
      "Iteration: \t24 / 100\n",
      "Confirmed: \t1\n",
      "Tentative: \t1\n",
      "Rejected: \t10\n",
      "Iteration: \t25 / 100\n",
      "Confirmed: \t1\n",
      "Tentative: \t1\n",
      "Rejected: \t10\n",
      "Iteration: \t26 / 100\n",
      "Confirmed: \t1\n",
      "Tentative: \t1\n",
      "Rejected: \t10\n",
      "Iteration: \t27 / 100\n",
      "Confirmed: \t1\n",
      "Tentative: \t1\n",
      "Rejected: \t10\n",
      "Iteration: \t28 / 100\n",
      "Confirmed: \t1\n",
      "Tentative: \t1\n",
      "Rejected: \t10\n",
      "Iteration: \t29 / 100\n",
      "Confirmed: \t1\n",
      "Tentative: \t1\n",
      "Rejected: \t10\n",
      "Iteration: \t30 / 100\n",
      "Confirmed: \t1\n",
      "Tentative: \t1\n",
      "Rejected: \t10\n",
      "Iteration: \t31 / 100\n",
      "Confirmed: \t1\n",
      "Tentative: \t1\n",
      "Rejected: \t10\n",
      "Iteration: \t32 / 100\n",
      "Confirmed: \t1\n",
      "Tentative: \t1\n",
      "Rejected: \t10\n",
      "Iteration: \t33 / 100\n",
      "Confirmed: \t1\n",
      "Tentative: \t1\n",
      "Rejected: \t10\n",
      "Iteration: \t34 / 100\n",
      "Confirmed: \t1\n",
      "Tentative: \t1\n",
      "Rejected: \t10\n",
      "Iteration: \t35 / 100\n",
      "Confirmed: \t1\n",
      "Tentative: \t1\n",
      "Rejected: \t10\n",
      "Iteration: \t36 / 100\n",
      "Confirmed: \t1\n",
      "Tentative: \t1\n",
      "Rejected: \t10\n",
      "Iteration: \t37 / 100\n",
      "Confirmed: \t1\n",
      "Tentative: \t1\n",
      "Rejected: \t10\n",
      "Iteration: \t38 / 100\n",
      "Confirmed: \t1\n",
      "Tentative: \t1\n",
      "Rejected: \t10\n",
      "Iteration: \t39 / 100\n",
      "Confirmed: \t1\n",
      "Tentative: \t1\n",
      "Rejected: \t10\n",
      "Iteration: \t40 / 100\n",
      "Confirmed: \t1\n",
      "Tentative: \t1\n",
      "Rejected: \t10\n",
      "Iteration: \t41 / 100\n",
      "Confirmed: \t1\n",
      "Tentative: \t1\n",
      "Rejected: \t10\n",
      "Iteration: \t42 / 100\n",
      "Confirmed: \t1\n",
      "Tentative: \t1\n",
      "Rejected: \t10\n",
      "Iteration: \t43 / 100\n",
      "Confirmed: \t1\n",
      "Tentative: \t1\n",
      "Rejected: \t10\n",
      "Iteration: \t44 / 100\n",
      "Confirmed: \t1\n",
      "Tentative: \t1\n",
      "Rejected: \t10\n",
      "Iteration: \t45 / 100\n",
      "Confirmed: \t1\n",
      "Tentative: \t1\n",
      "Rejected: \t10\n",
      "Iteration: \t46 / 100\n",
      "Confirmed: \t1\n",
      "Tentative: \t1\n",
      "Rejected: \t10\n",
      "Iteration: \t47 / 100\n",
      "Confirmed: \t1\n",
      "Tentative: \t1\n",
      "Rejected: \t10\n",
      "Iteration: \t48 / 100\n",
      "Confirmed: \t1\n",
      "Tentative: \t1\n",
      "Rejected: \t10\n",
      "Iteration: \t49 / 100\n",
      "Confirmed: \t1\n",
      "Tentative: \t1\n",
      "Rejected: \t10\n",
      "Iteration: \t50 / 100\n",
      "Confirmed: \t1\n",
      "Tentative: \t1\n",
      "Rejected: \t10\n",
      "Iteration: \t51 / 100\n",
      "Confirmed: \t1\n",
      "Tentative: \t1\n",
      "Rejected: \t10\n",
      "Iteration: \t52 / 100\n",
      "Confirmed: \t1\n",
      "Tentative: \t1\n",
      "Rejected: \t10\n",
      "Iteration: \t53 / 100\n",
      "Confirmed: \t1\n",
      "Tentative: \t1\n",
      "Rejected: \t10\n",
      "Iteration: \t54 / 100\n",
      "Confirmed: \t1\n",
      "Tentative: \t1\n",
      "Rejected: \t10\n",
      "Iteration: \t55 / 100\n",
      "Confirmed: \t1\n",
      "Tentative: \t1\n",
      "Rejected: \t10\n",
      "Iteration: \t56 / 100\n",
      "Confirmed: \t1\n",
      "Tentative: \t1\n",
      "Rejected: \t10\n",
      "Iteration: \t57 / 100\n",
      "Confirmed: \t1\n",
      "Tentative: \t1\n",
      "Rejected: \t10\n",
      "Iteration: \t58 / 100\n",
      "Confirmed: \t1\n",
      "Tentative: \t1\n",
      "Rejected: \t10\n",
      "Iteration: \t59 / 100\n",
      "Confirmed: \t1\n",
      "Tentative: \t1\n",
      "Rejected: \t10\n",
      "Iteration: \t60 / 100\n",
      "Confirmed: \t1\n",
      "Tentative: \t1\n",
      "Rejected: \t10\n",
      "Iteration: \t61 / 100\n",
      "Confirmed: \t1\n",
      "Tentative: \t1\n",
      "Rejected: \t10\n",
      "Iteration: \t62 / 100\n",
      "Confirmed: \t1\n",
      "Tentative: \t1\n",
      "Rejected: \t10\n",
      "Iteration: \t63 / 100\n",
      "Confirmed: \t1\n",
      "Tentative: \t1\n",
      "Rejected: \t10\n",
      "Iteration: \t64 / 100\n",
      "Confirmed: \t1\n",
      "Tentative: \t1\n",
      "Rejected: \t10\n",
      "Iteration: \t65 / 100\n",
      "Confirmed: \t1\n",
      "Tentative: \t1\n",
      "Rejected: \t10\n",
      "Iteration: \t66 / 100\n",
      "Confirmed: \t1\n",
      "Tentative: \t1\n",
      "Rejected: \t10\n",
      "Iteration: \t67 / 100\n",
      "Confirmed: \t1\n",
      "Tentative: \t1\n",
      "Rejected: \t10\n",
      "Iteration: \t68 / 100\n",
      "Confirmed: \t1\n",
      "Tentative: \t1\n",
      "Rejected: \t10\n",
      "Iteration: \t69 / 100\n",
      "Confirmed: \t1\n",
      "Tentative: \t1\n",
      "Rejected: \t10\n",
      "Iteration: \t70 / 100\n",
      "Confirmed: \t1\n",
      "Tentative: \t1\n",
      "Rejected: \t10\n",
      "Iteration: \t71 / 100\n",
      "Confirmed: \t1\n",
      "Tentative: \t1\n",
      "Rejected: \t10\n",
      "Iteration: \t72 / 100\n",
      "Confirmed: \t1\n",
      "Tentative: \t1\n",
      "Rejected: \t10\n",
      "Iteration: \t73 / 100\n",
      "Confirmed: \t1\n",
      "Tentative: \t1\n",
      "Rejected: \t10\n",
      "Iteration: \t74 / 100\n",
      "Confirmed: \t1\n",
      "Tentative: \t1\n",
      "Rejected: \t10\n",
      "Iteration: \t75 / 100\n",
      "Confirmed: \t1\n",
      "Tentative: \t1\n",
      "Rejected: \t10\n",
      "Iteration: \t76 / 100\n",
      "Confirmed: \t1\n",
      "Tentative: \t1\n",
      "Rejected: \t10\n",
      "Iteration: \t77 / 100\n",
      "Confirmed: \t1\n",
      "Tentative: \t1\n",
      "Rejected: \t10\n",
      "Iteration: \t78 / 100\n",
      "Confirmed: \t1\n",
      "Tentative: \t1\n",
      "Rejected: \t10\n",
      "Iteration: \t79 / 100\n",
      "Confirmed: \t1\n",
      "Tentative: \t1\n",
      "Rejected: \t10\n",
      "Iteration: \t80 / 100\n",
      "Confirmed: \t1\n",
      "Tentative: \t1\n",
      "Rejected: \t10\n",
      "Iteration: \t81 / 100\n",
      "Confirmed: \t1\n",
      "Tentative: \t1\n",
      "Rejected: \t10\n",
      "Iteration: \t82 / 100\n",
      "Confirmed: \t1\n",
      "Tentative: \t1\n",
      "Rejected: \t10\n",
      "Iteration: \t83 / 100\n",
      "Confirmed: \t1\n",
      "Tentative: \t1\n",
      "Rejected: \t10\n",
      "Iteration: \t84 / 100\n",
      "Confirmed: \t1\n",
      "Tentative: \t1\n",
      "Rejected: \t10\n",
      "Iteration: \t85 / 100\n",
      "Confirmed: \t1\n",
      "Tentative: \t1\n",
      "Rejected: \t10\n",
      "Iteration: \t86 / 100\n",
      "Confirmed: \t1\n",
      "Tentative: \t1\n",
      "Rejected: \t10\n",
      "Iteration: \t87 / 100\n",
      "Confirmed: \t1\n",
      "Tentative: \t1\n",
      "Rejected: \t10\n",
      "Iteration: \t88 / 100\n",
      "Confirmed: \t1\n",
      "Tentative: \t1\n",
      "Rejected: \t10\n",
      "Iteration: \t89 / 100\n",
      "Confirmed: \t1\n",
      "Tentative: \t1\n",
      "Rejected: \t10\n",
      "Iteration: \t90 / 100\n",
      "Confirmed: \t1\n",
      "Tentative: \t1\n",
      "Rejected: \t10\n",
      "Iteration: \t91 / 100\n",
      "Confirmed: \t1\n",
      "Tentative: \t1\n",
      "Rejected: \t10\n",
      "Iteration: \t92 / 100\n",
      "Confirmed: \t1\n",
      "Tentative: \t1\n",
      "Rejected: \t10\n",
      "Iteration: \t93 / 100\n",
      "Confirmed: \t1\n",
      "Tentative: \t0\n",
      "Rejected: \t11\n",
      "\n",
      "\n",
      "BorutaPy finished running.\n",
      "\n",
      "Iteration: \t94 / 100\n",
      "Confirmed: \t1\n",
      "Tentative: \t0\n",
      "Rejected: \t11\n"
     ]
    }
   ],
   "source": [
    "x_train_n = df5.drop( ['id', 'response'], axis=1 ).values\n",
    "y_train_n = y_train.values.ravel()\n",
    "\n",
    "# Define model\n",
    "et = en.ExtraTreesClassifier( n_jobs=-1 )\n",
    "\n",
    "# Define boruta\n",
    "boruta = bt.BorutaPy( et, n_estimators='auto', verbose=2, random_state=42 ).fit( x_train_n, y_train_n  )"
   ]
  },
  {
   "cell_type": "code",
   "execution_count": 74,
   "id": "39a1b190",
   "metadata": {
    "ExecuteTime": {
     "end_time": "2022-08-08T17:46:35.975347Z",
     "start_time": "2022-08-08T17:46:35.952362Z"
    },
    "hidden": true
   },
   "outputs": [],
   "source": [
    "cols_selected = boruta.support_.tolist()\n",
    "\n",
    "# best features\n",
    "x_train_fs = df5.drop( ['id', 'response'], axis=1 )\n",
    "cols_selected_boruta = x_train_fs.iloc[:, cols_selected].columns.to_list()\n",
    "\n",
    "# not selected boruta\n",
    "cols_not_selected_boruta = list( np.setdiff1d( x_train_fs.columns, cols_selected_boruta ) )"
   ]
  },
  {
   "cell_type": "markdown",
   "id": "ffd0e518",
   "metadata": {
    "ExecuteTime": {
     "end_time": "2022-08-08T17:46:44.556841Z",
     "start_time": "2022-08-08T17:46:44.551845Z"
    },
    "heading_collapsed": true
   },
   "source": [
    "## 6.2 Feature Importance"
   ]
  },
  {
   "cell_type": "code",
   "execution_count": 18,
   "id": "3d65c4ca",
   "metadata": {
    "ExecuteTime": {
     "end_time": "2022-08-09T02:03:43.843183Z",
     "start_time": "2022-08-09T02:03:07.512829Z"
    },
    "hidden": true
   },
   "outputs": [
    {
     "data": {
      "text/html": [
       "<style>#sk-container-id-1 {color: black;background-color: white;}#sk-container-id-1 pre{padding: 0;}#sk-container-id-1 div.sk-toggleable {background-color: white;}#sk-container-id-1 label.sk-toggleable__label {cursor: pointer;display: block;width: 100%;margin-bottom: 0;padding: 0.3em;box-sizing: border-box;text-align: center;}#sk-container-id-1 label.sk-toggleable__label-arrow:before {content: \"▸\";float: left;margin-right: 0.25em;color: #696969;}#sk-container-id-1 label.sk-toggleable__label-arrow:hover:before {color: black;}#sk-container-id-1 div.sk-estimator:hover label.sk-toggleable__label-arrow:before {color: black;}#sk-container-id-1 div.sk-toggleable__content {max-height: 0;max-width: 0;overflow: hidden;text-align: left;background-color: #f0f8ff;}#sk-container-id-1 div.sk-toggleable__content pre {margin: 0.2em;color: black;border-radius: 0.25em;background-color: #f0f8ff;}#sk-container-id-1 input.sk-toggleable__control:checked~div.sk-toggleable__content {max-height: 200px;max-width: 100%;overflow: auto;}#sk-container-id-1 input.sk-toggleable__control:checked~label.sk-toggleable__label-arrow:before {content: \"▾\";}#sk-container-id-1 div.sk-estimator input.sk-toggleable__control:checked~label.sk-toggleable__label {background-color: #d4ebff;}#sk-container-id-1 div.sk-label input.sk-toggleable__control:checked~label.sk-toggleable__label {background-color: #d4ebff;}#sk-container-id-1 input.sk-hidden--visually {border: 0;clip: rect(1px 1px 1px 1px);clip: rect(1px, 1px, 1px, 1px);height: 1px;margin: -1px;overflow: hidden;padding: 0;position: absolute;width: 1px;}#sk-container-id-1 div.sk-estimator {font-family: monospace;background-color: #f0f8ff;border: 1px dotted black;border-radius: 0.25em;box-sizing: border-box;margin-bottom: 0.5em;}#sk-container-id-1 div.sk-estimator:hover {background-color: #d4ebff;}#sk-container-id-1 div.sk-parallel-item::after {content: \"\";width: 100%;border-bottom: 1px solid gray;flex-grow: 1;}#sk-container-id-1 div.sk-label:hover label.sk-toggleable__label {background-color: #d4ebff;}#sk-container-id-1 div.sk-serial::before {content: \"\";position: absolute;border-left: 1px solid gray;box-sizing: border-box;top: 0;bottom: 0;left: 50%;z-index: 0;}#sk-container-id-1 div.sk-serial {display: flex;flex-direction: column;align-items: center;background-color: white;padding-right: 0.2em;padding-left: 0.2em;position: relative;}#sk-container-id-1 div.sk-item {position: relative;z-index: 1;}#sk-container-id-1 div.sk-parallel {display: flex;align-items: stretch;justify-content: center;background-color: white;position: relative;}#sk-container-id-1 div.sk-item::before, #sk-container-id-1 div.sk-parallel-item::before {content: \"\";position: absolute;border-left: 1px solid gray;box-sizing: border-box;top: 0;bottom: 0;left: 50%;z-index: -1;}#sk-container-id-1 div.sk-parallel-item {display: flex;flex-direction: column;z-index: 1;position: relative;background-color: white;}#sk-container-id-1 div.sk-parallel-item:first-child::after {align-self: flex-end;width: 50%;}#sk-container-id-1 div.sk-parallel-item:last-child::after {align-self: flex-start;width: 50%;}#sk-container-id-1 div.sk-parallel-item:only-child::after {width: 0;}#sk-container-id-1 div.sk-dashed-wrapped {border: 1px dashed gray;margin: 0 0.4em 0.5em 0.4em;box-sizing: border-box;padding-bottom: 0.4em;background-color: white;}#sk-container-id-1 div.sk-label label {font-family: monospace;font-weight: bold;display: inline-block;line-height: 1.2em;}#sk-container-id-1 div.sk-label-container {text-align: center;}#sk-container-id-1 div.sk-container {/* jupyter's `normalize.less` sets `[hidden] { display: none; }` but bootstrap.min.css set `[hidden] { display: none !important; }` so we also need the `!important` here to be able to override the default hidden behavior on the sphinx rendered scikit-learn.org. See: https://github.com/scikit-learn/scikit-learn/issues/21755 */display: inline-block !important;position: relative;}#sk-container-id-1 div.sk-text-repr-fallback {display: none;}</style><div id=\"sk-container-id-1\" class=\"sk-top-container\"><div class=\"sk-text-repr-fallback\"><pre>ExtraTreesClassifier(n_estimators=250, n_jobs=-1, random_state=0)</pre><b>In a Jupyter environment, please rerun this cell to show the HTML representation or trust the notebook. <br />On GitHub, the HTML representation is unable to render, please try loading this page with nbviewer.org.</b></div><div class=\"sk-container\" hidden><div class=\"sk-item\"><div class=\"sk-estimator sk-toggleable\"><input class=\"sk-toggleable__control sk-hidden--visually\" id=\"sk-estimator-id-1\" type=\"checkbox\" checked><label for=\"sk-estimator-id-1\" class=\"sk-toggleable__label sk-toggleable__label-arrow\">ExtraTreesClassifier</label><div class=\"sk-toggleable__content\"><pre>ExtraTreesClassifier(n_estimators=250, n_jobs=-1, random_state=0)</pre></div></div></div></div></div>"
      ],
      "text/plain": [
       "ExtraTreesClassifier(n_estimators=250, n_jobs=-1, random_state=0)"
      ]
     },
     "execution_count": 18,
     "metadata": {},
     "output_type": "execute_result"
    }
   ],
   "source": [
    "# model definition\n",
    "forest = en.ExtraTreesClassifier( n_estimators=250, random_state=0, n_jobs=-1 )\n",
    "\n",
    "# data preparation\n",
    "x_train_n = df5.drop( ['id', 'response'], axis=1 )\n",
    "y_train_n = y_train.values\n",
    "forest.fit( x_train_n, y_train_n )"
   ]
  },
  {
   "cell_type": "code",
   "execution_count": 23,
   "id": "89994a4e",
   "metadata": {
    "ExecuteTime": {
     "end_time": "2022-08-08T18:04:15.024502Z",
     "start_time": "2022-08-08T18:04:13.878620Z"
    },
    "hidden": true
   },
   "outputs": [
    {
     "name": "stdout",
     "output_type": "stream",
     "text": [
      "Feature ranking:\n",
      "                        feature  importance\n",
      "0                       vintage    0.274412\n",
      "0                annual_premium    0.244899\n",
      "0                           age    0.165077\n",
      "0                   region_code    0.105011\n",
      "0                vehicle_damage    0.067947\n",
      "0          policy_sales_channel    0.058799\n",
      "0            previously_insured    0.056382\n",
      "0      vehicle_age_below_1_year    0.013880\n",
      "0  vehicle_age_between_1_2_year    0.006116\n",
      "0                        gender    0.004694\n",
      "0      vehicle_age_over_2_years    0.002295\n",
      "0               driving_license    0.000488\n"
     ]
    },
    {
     "data": {
      "image/png": "[encoded data removed]",
      "text/plain": [
       "<Figure size 432x288 with 1 Axes>"
      ]
     },
     "metadata": {
      "needs_background": "light"
     },
     "output_type": "display_data"
    }
   ],
   "source": [
    "importances = forest.feature_importances_\n",
    "std = np.std([tree.feature_importances_ for tree in forest.estimators_], axis=0)\n",
    "indices = np.argsort(importances)[::-1]\n",
    "\n",
    "# Print the feature ranking\n",
    "print(\"Feature ranking:\")\n",
    "df = pd.DataFrame()\n",
    "for i, j in zip( x_train_n, forest.feature_importances_ ):\n",
    "    aux = pd.DataFrame( {'feature': i, 'importance': j}, index=[0] )\n",
    "    df = pd.concat( [df, aux], axis=0 )\n",
    "    \n",
    "print( df.sort_values( 'importance', ascending=False ) )\n",
    "\n",
    "# Plot the impurity-based feature importances of the forest\n",
    "plt.figure()\n",
    "plt.title(\"Feature importances\")\n",
    "plt.bar(range(x_train_n.shape[1]), importances[indices], color=\"r\", yerr=std[indices], align=\"center\")\n",
    "plt.xticks(range(x_train_n.shape[1]), indices)\n",
    "plt.xlim([-1, x_train_n.shape[1]])\n",
    "plt.show()"
   ]
  },
  {
   "cell_type": "markdown",
   "id": "c62e8919",
   "metadata": {},
   "source": [
    "# 7.0. Machine Learning Model"
   ]
  },
  {
   "cell_type": "code",
   "execution_count": 112,
   "id": "dbd8c2e2",
   "metadata": {
    "ExecuteTime": {
     "end_time": "2022-08-17T03:06:37.918722Z",
     "start_time": "2022-08-17T03:06:37.900615Z"
    }
   },
   "outputs": [],
   "source": [
    "cols_selected = ['annual_premium', 'vintage', 'age', 'region_code', 'vehicle_damage', 'previously_insured',\n",
    "                 'policy_sales_channel', 'vehicle_age_below_1_year', 'vehicle_age_between_1_2_year', 'vehicle_age_over_2_years', 'gender' ]\n",
    "\n",
    "cols_full = ['annual_premium', 'vintage', 'age', 'region_code', 'vehicle_damage', 'previously_insured',\n",
    "                 'policy_sales_channel', 'vehicle_age_below_1_year', 'vehicle_age_between_1_2_year', 'vehicle_age_over_2_years', 'gender',  'response']"
   ]
  },
  {
   "cell_type": "code",
   "execution_count": 113,
   "id": "770fe83b",
   "metadata": {
    "ExecuteTime": {
     "end_time": "2022-08-17T03:06:55.025531Z",
     "start_time": "2022-08-17T03:06:54.981553Z"
    }
   },
   "outputs": [],
   "source": [
    "x_train = df5[ cols_selected ]\n",
    "\n",
    "x_val = x_validation[ cols_selected ]\n",
    "y_val = y_validation\n",
    "\n"
   ]
  },
  {
   "cell_type": "code",
   "execution_count": 114,
   "id": "c8ef6238",
   "metadata": {
    "ExecuteTime": {
     "end_time": "2022-08-17T03:07:12.811358Z",
     "start_time": "2022-08-17T03:07:12.788683Z"
    }
   },
   "outputs": [],
   "source": [
    "df7 = df5[cols_full]"
   ]
  },
  {
   "cell_type": "markdown",
   "id": "e979b0b5",
   "metadata": {},
   "source": [
    "## 7.1 KNN Classifier"
   ]
  },
  {
   "cell_type": "code",
   "execution_count": 123,
   "id": "a9769cda",
   "metadata": {
    "ExecuteTime": {
     "end_time": "2022-08-17T03:55:59.752632Z",
     "start_time": "2022-08-17T03:55:59.730645Z"
    }
   },
   "outputs": [
    {
     "ename": "NameError",
     "evalue": "name 'warnings' is not defined",
     "output_type": "error",
     "traceback": [
      "\u001b[1;31m---------------------------------------------------------------------------\u001b[0m",
      "\u001b[1;31mNameError\u001b[0m                                 Traceback (most recent call last)",
      "Input \u001b[1;32mIn [123]\u001b[0m, in \u001b[0;36m<cell line: 10>\u001b[1;34m()\u001b[0m\n\u001b[0;32m      1\u001b[0m params \u001b[38;5;241m=\u001b[39m {\n\u001b[0;32m      2\u001b[0m     \u001b[38;5;124m'\u001b[39m\u001b[38;5;124mn_neighbors\u001b[39m\u001b[38;5;124m'\u001b[39m:  [\u001b[38;5;241m3\u001b[39m,\u001b[38;5;241m5\u001b[39m,\u001b[38;5;241m8\u001b[39m,\u001b[38;5;241m15\u001b[39m],\n\u001b[0;32m      3\u001b[0m     \u001b[38;5;124m'\u001b[39m\u001b[38;5;124mweights\u001b[39m\u001b[38;5;124m'\u001b[39m:  [\u001b[38;5;124m'\u001b[39m\u001b[38;5;124muniform\u001b[39m\u001b[38;5;124m'\u001b[39m, \u001b[38;5;124m'\u001b[39m\u001b[38;5;124mdistance\u001b[39m\u001b[38;5;124m'\u001b[39m], \n\u001b[1;32m   (...)\u001b[0m\n\u001b[0;32m      6\u001b[0m     \u001b[38;5;124m'\u001b[39m\u001b[38;5;124mp\u001b[39m\u001b[38;5;124m'\u001b[39m: [\u001b[38;5;241m1\u001b[39m,\u001b[38;5;241m2\u001b[39m]\n\u001b[0;32m      7\u001b[0m }\n\u001b[0;32m      8\u001b[0m MAX_EVAL \u001b[38;5;241m=\u001b[39m \u001b[38;5;241m5\u001b[39m\n\u001b[1;32m---> 10\u001b[0m \u001b[43mwarnings\u001b[49m\u001b[38;5;241m.\u001b[39mfilterwarnings(\u001b[38;5;124m\"\u001b[39m\u001b[38;5;124mignore\u001b[39m\u001b[38;5;124m\"\u001b[39m)\n",
      "\u001b[1;31mNameError\u001b[0m: name 'warnings' is not defined"
     ]
    }
   ],
   "source": [
    "params = {\n",
    "    'n_neighbors':  [3,5,8,15],\n",
    "    'weights':  ['uniform', 'distance'], \n",
    "    'algorithm': ['ball_tree', 'kd_tree', 'brute'],\n",
    "    'leaf_size': [20,30,40],\n",
    "    'p': [1,2]\n",
    "}\n",
    "MAX_EVAL = 5"
   ]
  },
  {
   "cell_type": "code",
   "execution_count": null,
   "id": "7fb566d2",
   "metadata": {
    "ExecuteTime": {
     "start_time": "2022-08-17T03:56:01.073Z"
    }
   },
   "outputs": [
    {
     "name": "stderr",
     "output_type": "stream",
     "text": [
      "C:\\Users\\kaka\\AppData\\Local\\Temp\\ipykernel_7044\\1091922542.py:7: FutureWarning: The frame.append method is deprecated and will be removed from pandas in a future version. Use pandas.concat instead.\n",
      "  hp_list = hp_list.append(hp,ignore_index=True)\n"
     ]
    },
    {
     "name": "stdout",
     "output_type": "stream",
     "text": [
      "{'n_neighbors': 15, 'weights': 'uniform', 'algorithm': 'kd_tree', 'leaf_size': 20, 'p': 2}\n",
      "\n",
      "KFold Number: 1\n",
      "\n",
      "KFold Number: 2\n",
      "\n",
      "KFold Number: 3\n",
      "\n",
      "KFold Number: 4\n",
      "\n",
      "KFold Number: 5\n",
      "\n",
      "KFold Number: 6\n",
      "\n",
      "KFold Number: 7\n",
      "\n",
      "KFold Number: 8\n",
      "\n",
      "KFold Number: 9\n",
      "\n",
      "KFold Number: 10\n"
     ]
    },
    {
     "name": "stderr",
     "output_type": "stream",
     "text": [
      "C:\\Users\\kaka\\AppData\\Local\\Temp\\ipykernel_7044\\1091922542.py:17: FutureWarning: The frame.append method is deprecated and will be removed from pandas in a future version. Use pandas.concat instead.\n",
      "  knn_m = knn_m.append(knn_cv)\n",
      "C:\\Users\\kaka\\AppData\\Local\\Temp\\ipykernel_7044\\1091922542.py:7: FutureWarning: The frame.append method is deprecated and will be removed from pandas in a future version. Use pandas.concat instead.\n",
      "  hp_list = hp_list.append(hp,ignore_index=True)\n"
     ]
    },
    {
     "name": "stdout",
     "output_type": "stream",
     "text": [
      "                   Mean_Precision_at_k  Mean_Recall_at_k\n",
      "KNN Classifier - 0   0.29347+/-0.00143  0.78418+/-0.0038\n",
      "{'n_neighbors': 8, 'weights': 'distance', 'algorithm': 'ball_tree', 'leaf_size': 30, 'p': 1}\n",
      "\n",
      "KFold Number: 1\n",
      "\n",
      "KFold Number: 2\n",
      "\n",
      "KFold Number: 3\n",
      "\n",
      "KFold Number: 4\n",
      "\n",
      "KFold Number: 5\n",
      "\n",
      "KFold Number: 6\n",
      "\n",
      "KFold Number: 7\n",
      "\n",
      "KFold Number: 8\n",
      "\n",
      "KFold Number: 9\n",
      "\n",
      "KFold Number: 10\n"
     ]
    },
    {
     "name": "stderr",
     "output_type": "stream",
     "text": [
      "C:\\Users\\kaka\\AppData\\Local\\Temp\\ipykernel_7044\\1091922542.py:17: FutureWarning: The frame.append method is deprecated and will be removed from pandas in a future version. Use pandas.concat instead.\n",
      "  knn_m = knn_m.append(knn_cv)\n",
      "C:\\Users\\kaka\\AppData\\Local\\Temp\\ipykernel_7044\\1091922542.py:7: FutureWarning: The frame.append method is deprecated and will be removed from pandas in a future version. Use pandas.concat instead.\n",
      "  hp_list = hp_list.append(hp,ignore_index=True)\n"
     ]
    },
    {
     "name": "stdout",
     "output_type": "stream",
     "text": [
      "                   Mean_Precision_at_k   Mean_Recall_at_k\n",
      "KNN Classifier - 0   0.29347+/-0.00143   0.78418+/-0.0038\n",
      "KNN Classifier - 1   0.28011+/-0.00157  0.74848+/-0.00422\n",
      "{'n_neighbors': 5, 'weights': 'distance', 'algorithm': 'ball_tree', 'leaf_size': 30, 'p': 1}\n",
      "\n",
      "KFold Number: 1\n",
      "\n",
      "KFold Number: 2\n",
      "\n",
      "KFold Number: 3\n",
      "\n",
      "KFold Number: 4\n",
      "\n",
      "KFold Number: 5\n"
     ]
    }
   ],
   "source": [
    "knn_m = pd.DataFrame()\n",
    "hp_list = pd.DataFrame()\n",
    "\n",
    "\n",
    "for i in range(MAX_EVAL):\n",
    "    hp = {k: random.sample(v,1)[0] for k,v in params.items()}\n",
    "    hp_list = hp_list.append(hp,ignore_index=True)\n",
    "    print(hp)\n",
    "    knn_model =  nh.KNeighborsClassifier( n_neighbors = hp['n_neighbors'],\n",
    "                                          weights = hp['weights'],\n",
    "                                          algorithm= hp['algorithm'],\n",
    "                                          leaf_size= hp['leaf_size'],\n",
    "                                          p = hp['p'])\n",
    "         \n",
    "    knn_cv = cross_validation(df7, knn_model,'KNN Classifier - '+str(i),5,2,20000)\n",
    "    \n",
    "    knn_m = knn_m.append(knn_cv)\n",
    "    print(knn_m)\n",
    "    \n",
    "    \n",
    "knn_m"
   ]
  },
  {
   "cell_type": "code",
   "execution_count": 69,
   "id": "49705089",
   "metadata": {
    "ExecuteTime": {
     "end_time": "2022-08-17T02:16:30.562606Z",
     "start_time": "2022-08-17T02:10:09.245869Z"
    }
   },
   "outputs": [],
   "source": [
    "#find best k\n",
    "Ks = 15\n",
    "\n",
    "mean_rcc = np.zeros((Ks-1))\n",
    "\n",
    "for n in range(9,Ks):\n",
    "    \n",
    "    #Train Model and Predict  \n",
    "    knn_model = nh.KNeighborsClassifier(n_neighbors = n).fit(x_train,y_train)\n",
    "    yhat = knn_model.predict(x_val)\n",
    "    mean_rcc[n-1] = balanced_accuracy_score(y_validation, yhat)"
   ]
  },
  {
   "cell_type": "code",
   "execution_count": 70,
   "id": "7aaea1ef",
   "metadata": {
    "ExecuteTime": {
     "end_time": "2022-08-17T02:16:53.808476Z",
     "start_time": "2022-08-17T02:16:53.631460Z"
    }
   },
   "outputs": [
    {
     "data": {
      "image/png": "[encoded data removed]",
      "text/plain": [
       "<Figure size 432x288 with 1 Axes>"
      ]
     },
     "metadata": {
      "needs_background": "light"
     },
     "output_type": "display_data"
    }
   ],
   "source": [
    "plt.plot(range(1,Ks),mean_rcc,'g')\n",
    "plt.legend(('Precision', ), loc = 'center right' )\n",
    "plt.xlabel('Number of Neighbors')\n",
    "plt.tight_layout()\n",
    "plt.show()"
   ]
  },
  {
   "cell_type": "code",
   "execution_count": 71,
   "id": "abd1e6c4",
   "metadata": {
    "ExecuteTime": {
     "end_time": "2022-08-17T02:18:00.708255Z",
     "start_time": "2022-08-17T02:17:04.438267Z"
    }
   },
   "outputs": [],
   "source": [
    "# model definition\n",
    "knn_model = nh.KNeighborsClassifier( n_neighbors=10 )\n",
    "\n",
    "# model training\n",
    "knn_model.fit( x_train, y_train )\n",
    "\n",
    "# model prediction\n",
    "yhat_knn = knn_model.predict_proba( x_val )"
   ]
  },
  {
   "cell_type": "code",
   "execution_count": 72,
   "id": "b033de94",
   "metadata": {
    "ExecuteTime": {
     "end_time": "2022-08-17T02:20:32.322105Z",
     "start_time": "2022-08-17T02:20:32.124278Z"
    }
   },
   "outputs": [
    {
     "data": {
      "image/png": "[encoded data removed]",
      "text/plain": [
       "<Figure size 432x288 with 1 Axes>"
      ]
     },
     "metadata": {
      "needs_background": "light"
     },
     "output_type": "display_data"
    }
   ],
   "source": [
    "# Accumulative Gain\n",
    "skplt.metrics.plot_cumulative_gain( y_val, yhat_knn );"
   ]
  },
  {
   "cell_type": "code",
   "execution_count": 73,
   "id": "910ef2ce",
   "metadata": {
    "ExecuteTime": {
     "end_time": "2022-08-17T02:21:06.649523Z",
     "start_time": "2022-08-17T02:21:06.437529Z"
    }
   },
   "outputs": [
    {
     "data": {
      "image/png": "[encoded data removed]",
      "text/plain": [
       "<Figure size 432x288 with 1 Axes>"
      ]
     },
     "metadata": {
      "needs_background": "light"
     },
     "output_type": "display_data"
    }
   ],
   "source": [
    " #Scikitplot library is there to help\n",
    "skplt.metrics.plot_lift_curve( y_val, yhat_knn );"
   ]
  },
  {
   "cell_type": "markdown",
   "id": "e2b587f7",
   "metadata": {
    "heading_collapsed": true
   },
   "source": [
    "## 7.2 Logistic Regression"
   ]
  },
  {
   "cell_type": "code",
   "execution_count": null,
   "id": "5ac24163",
   "metadata": {
    "hidden": true
   },
   "outputs": [],
   "source": [
    "params = {\n",
    "    'penalty':  ['l2', 'none'],\n",
    "    'C':  [0.5, 1, 10, 100], \n",
    "    'solver': ['newton-cg', 'lbfgs', 'sag'],\n",
    "    'class_weight': [None, 'balanced']\n",
    "}\n",
    "\n",
    "max_eval = 5"
   ]
  },
  {
   "cell_type": "code",
   "execution_count": null,
   "id": "21bcce73",
   "metadata": {
    "hidden": true
   },
   "outputs": [],
   "source": [
    "lr_m = pd.DataFrame()\n",
    "hp_list = pd.DataFrame()\n",
    "\n",
    "\n",
    "for i in range(MAX_EVAL):\n",
    "    hp = {k: random.sample(v,1)[0] for k,v in params.items()}\n",
    "    hp_list = hp_list.append(hp,ignore_index=True)\n",
    "    print(hp)\n",
    "    lr_model =  LogisticRegression( penalty = hp['penalty'],\n",
    "                                       C= hp['C'],\n",
    "                                       solver= hp['solver'],\n",
    "                                       class_weight= hp['class_weight'],\n",
    "                                     )\n",
    "         \n",
    "    lr_cv = cross_validation(df7 , lr_model,'Logistic Regression - '+str(i),5,2,20000)\n",
    "    \n",
    "    lr_m = lr_m.append(lr_cv)\n",
    "    print(lr_m)\n",
    "    \n",
    "    \n",
    "lr_m"
   ]
  },
  {
   "cell_type": "code",
   "execution_count": 66,
   "id": "3252ade9",
   "metadata": {
    "ExecuteTime": {
     "end_time": "2022-08-15T22:32:14.829505Z",
     "start_time": "2022-08-15T22:32:13.458555Z"
    },
    "hidden": true
   },
   "outputs": [],
   "source": [
    "# model definition\n",
    "lr_model = lm.LogisticRegression( random_state=42 ) \n",
    "\n",
    "# model training\n",
    "lr_model.fit( x_train, y_train )\n",
    "\n",
    "# model prediction\n",
    "yhat_lr = lr_model.predict_proba( x_val )\n",
    "\n",
    "#print('Accuracy Score: '   + str(accuracy_score( y_val, yhat_lr)))\n",
    "#print('Balanced Accuracy: '   + str(balanced_accuracy_score(y_val, yhat_lr)))"
   ]
  },
  {
   "cell_type": "code",
   "execution_count": 65,
   "id": "6ac13a05",
   "metadata": {
    "ExecuteTime": {
     "end_time": "2022-08-15T22:32:07.141474Z",
     "start_time": "2022-08-15T22:32:06.913608Z"
    },
    "hidden": true
   },
   "outputs": [
    {
     "data": {
      "image/png": "[encoded data removed]",
      "text/plain": [
       "<Figure size 432x288 with 1 Axes>"
      ]
     },
     "metadata": {
      "needs_background": "light"
     },
     "output_type": "display_data"
    }
   ],
   "source": [
    " # Accumulative Gain\n",
    "skplt.metrics.plot_cumulative_gain( y_val, yhat_lr );"
   ]
  },
  {
   "cell_type": "code",
   "execution_count": 33,
   "id": "5e1ade32",
   "metadata": {
    "ExecuteTime": {
     "end_time": "2022-08-08T18:17:14.245614Z",
     "start_time": "2022-08-08T18:17:14.021119Z"
    },
    "hidden": true
   },
   "outputs": [
    {
     "data": {
      "image/png": "[encoded data removed]",
      "text/plain": [
       "<Figure size 432x288 with 1 Axes>"
      ]
     },
     "metadata": {
      "needs_background": "light"
     },
     "output_type": "display_data"
    }
   ],
   "source": [
    "#Scikitplot library is there to help\n",
    "skplt.metrics.plot_lift_curve( y_val, yhat_lr );"
   ]
  },
  {
   "cell_type": "markdown",
   "id": "29581f24",
   "metadata": {
    "heading_collapsed": true
   },
   "source": [
    "## 7.3 Extra trees Classifier"
   ]
  },
  {
   "cell_type": "code",
   "execution_count": null,
   "id": "bb430c7e",
   "metadata": {
    "hidden": true
   },
   "outputs": [],
   "source": [
    "params = { 'n_estimators':[250,500,750],\n",
    "           'max_depth':[3,5,7],\n",
    "           'min_samples_split':  [2,3],\n",
    "           'min_samples_leaf': [1,2],\n",
    "           'class_weight': [None, 'balanced','balanced_subsample']\n",
    "}\n",
    "\n",
    "MAX_EVAL = 5"
   ]
  },
  {
   "cell_type": "code",
   "execution_count": null,
   "id": "52573d26",
   "metadata": {
    "hidden": true
   },
   "outputs": [],
   "source": [
    "et_m = pd.DataFrame()\n",
    "hp_list = pd.DataFrame()\n",
    "\n",
    "\n",
    "for i in range(MAX_EVAL):\n",
    "    hp = {k: random.sample(v,1)[0] for k,v in params.items()}\n",
    "    hp_list = hp_list.append(hp,ignore_index=True)\n",
    "    print(hp)\n",
    "    et_model = ExtraTreesClassifier(n_estimators = hp['n_estimators'],\n",
    "                                       max_depth = hp['max_depth'],\n",
    "                                       min_samples_split= hp['min_samples_split'],\n",
    "                                       min_samples_leaf= hp['min_samples_leaf'],\n",
    "                                       class_weight = hp['class_weight'],\n",
    "                                       random_state = 25,\n",
    "                                       n_jobs=-1)\n",
    "         \n",
    "    et_cv = cross_validation(df7,et_model,'Extra Trees Classifier - '+str(i),5,2,20000)\n",
    "    \n",
    "    et_m = et_m.append(et_cv)\n",
    "    print(et_m)\n",
    "    \n",
    "    \n",
    "et_m"
   ]
  },
  {
   "cell_type": "code",
   "execution_count": 27,
   "id": "6f06eea4",
   "metadata": {
    "ExecuteTime": {
     "end_time": "2022-08-09T02:10:13.093153Z",
     "start_time": "2022-08-09T02:05:30.334267Z"
    },
    "hidden": true
   },
   "outputs": [],
   "source": [
    "# model definition\n",
    "et = en.ExtraTreesClassifier( n_estimators=1000, n_jobs=-1, random_state=42 ) \n",
    "\n",
    "# model training\n",
    "et.fit( x_train, y_train )\n",
    "\n",
    "# model prediction\n",
    "yhat_et = et.predict_proba( x_val )"
   ]
  },
  {
   "cell_type": "code",
   "execution_count": 35,
   "id": "2dd4aa22",
   "metadata": {
    "ExecuteTime": {
     "end_time": "2022-08-08T18:27:02.254656Z",
     "start_time": "2022-08-08T18:27:01.806932Z"
    },
    "hidden": true
   },
   "outputs": [
    {
     "data": {
      "image/png": "[encoded data removed]",
      "text/plain": [
       "<Figure size 432x288 with 1 Axes>"
      ]
     },
     "metadata": {
      "needs_background": "light"
     },
     "output_type": "display_data"
    }
   ],
   "source": [
    "# Accumulative Gain\n",
    "skplt.metrics.plot_cumulative_gain( y_val, yhat_et );"
   ]
  },
  {
   "cell_type": "code",
   "execution_count": 36,
   "id": "32806676",
   "metadata": {
    "ExecuteTime": {
     "end_time": "2022-08-08T18:27:10.155132Z",
     "start_time": "2022-08-08T18:27:09.927271Z"
    },
    "hidden": true
   },
   "outputs": [
    {
     "data": {
      "image/png": "[encoded data removed]",
      "text/plain": [
       "<Figure size 432x288 with 1 Axes>"
      ]
     },
     "metadata": {
      "needs_background": "light"
     },
     "output_type": "display_data"
    }
   ],
   "source": [
    " #Scikitplot library is there to help\n",
    "skplt.metrics.plot_lift_curve( y_val, yhat_et );"
   ]
  },
  {
   "cell_type": "markdown",
   "id": "960e5b1f",
   "metadata": {
    "heading_collapsed": true
   },
   "source": [
    "## 7.4 Random Forest"
   ]
  },
  {
   "cell_type": "code",
   "execution_count": null,
   "id": "7694a696",
   "metadata": {
    "hidden": true
   },
   "outputs": [],
   "source": [
    "params = { 'n_estimators':[250,500,750],\n",
    "           'max_depth':[3,5,7],\n",
    "           'min_samples_split':[2,3],\n",
    "           'min_samples_leaf': [1,2],\n",
    "           'class_weight': [None, 'balanced','balanced_subsample']\n",
    "}\n",
    "\n",
    "MAX_EVAL = 5"
   ]
  },
  {
   "cell_type": "code",
   "execution_count": null,
   "id": "d7a93f87",
   "metadata": {
    "hidden": true
   },
   "outputs": [],
   "source": [
    "rfc_m = pd.DataFrame()\n",
    "hp_list = pd.DataFrame()\n",
    "\n",
    "\n",
    "for i in range(MAX_EVAL):\n",
    "    hp = {k: random.sample(v,1)[0] for k,v in params.items()}\n",
    "    hp_list = hp_list.append(hp,ignore_index=True)\n",
    "    print(hp)\n",
    "    rfc_model = RandomForestClassifier(n_estimators = hp['n_estimators'],\n",
    "                                       max_depth = hp['max_depth'],\n",
    "                                       min_samples_split= hp['min_samples_split'],\n",
    "                                       min_samples_leaf= hp['min_samples_leaf'],\n",
    "                                       class_weight = hp['class_weight'],\n",
    "                                       random_state = 35,\n",
    "                                       n_jobs=-1)\n",
    "         \n",
    "    rfc_cv = cross_validation(df8,rfc_model,'Random Forest Classifier - '+str(i),,2,20000)\n",
    "    \n",
    "    rfc_m = rfc_m.append(rfc_cv)\n",
    "    print(rfc_m)\n",
    "    \n",
    "    \n",
    "rfc_m"
   ]
  },
  {
   "cell_type": "code",
   "execution_count": 188,
   "id": "73ecb715",
   "metadata": {
    "ExecuteTime": {
     "end_time": "2022-08-16T00:19:02.859088Z",
     "start_time": "2022-08-16T00:15:04.244908Z"
    },
    "hidden": true
   },
   "outputs": [],
   "source": [
    "# model definition\n",
    "rf = en.RandomForestClassifier( n_estimators=1000, n_jobs=-1, random_state=42 ) \n",
    "\n",
    "# model training\n",
    "rf.fit( x_train, y_train )\n",
    "\n",
    "# model prediction\n",
    "yhat_rf = rf.predict_proba( x_val )"
   ]
  },
  {
   "cell_type": "code",
   "execution_count": 189,
   "id": "6b7609ab",
   "metadata": {
    "ExecuteTime": {
     "end_time": "2022-08-16T00:19:38.939502Z",
     "start_time": "2022-08-16T00:19:38.712643Z"
    },
    "hidden": true
   },
   "outputs": [
    {
     "data": {
      "image/png": "[encoded data removed]",
      "text/plain": [
       "<Figure size 432x288 with 1 Axes>"
      ]
     },
     "metadata": {
      "needs_background": "light"
     },
     "output_type": "display_data"
    }
   ],
   "source": [
    "# Accumulative Gain\n",
    "skplt.metrics.plot_cumulative_gain( y_val, yhat_rf );"
   ]
  },
  {
   "cell_type": "code",
   "execution_count": 39,
   "id": "f3800b91",
   "metadata": {
    "ExecuteTime": {
     "end_time": "2022-08-08T18:36:43.766165Z",
     "start_time": "2022-08-08T18:36:43.548300Z"
    },
    "hidden": true
   },
   "outputs": [
    {
     "data": {
      "image/png": "[encoded data removed]",
      "text/plain": [
       "<Figure size 432x288 with 1 Axes>"
      ]
     },
     "metadata": {
      "needs_background": "light"
     },
     "output_type": "display_data"
    }
   ],
   "source": [
    "#Scikitplot library is there to help\n",
    "skplt.metrics.plot_lift_curve( y_val, yhat_rf );"
   ]
  },
  {
   "cell_type": "markdown",
   "id": "c4d184e0",
   "metadata": {
    "heading_collapsed": true
   },
   "source": [
    "## 7.5 XGBoost"
   ]
  },
  {
   "cell_type": "code",
   "execution_count": 115,
   "id": "7003345e",
   "metadata": {
    "ExecuteTime": {
     "end_time": "2022-08-17T03:07:22.182556Z",
     "start_time": "2022-08-17T03:07:22.172726Z"
    },
    "hidden": true
   },
   "outputs": [],
   "source": [
    "params = { 'n_estimators':  [100, 200, 300, 400, 500],\n",
    "           'max_depth': [3,5,9], \n",
    "           'scale_pos_weight': [1,7.15, 100]\n",
    "}\n",
    "\n",
    "MAX_EVAL = 5"
   ]
  },
  {
   "cell_type": "code",
   "execution_count": 119,
   "id": "dede3d7f",
   "metadata": {
    "ExecuteTime": {
     "end_time": "2022-08-17T03:26:38.884188Z",
     "start_time": "2022-08-17T03:09:27.605312Z"
    },
    "hidden": true
   },
   "outputs": [
    {
     "name": "stderr",
     "output_type": "stream",
     "text": [
      "C:\\Users\\kaka\\AppData\\Local\\Temp\\ipykernel_7044\\3241239839.py:7: FutureWarning: The frame.append method is deprecated and will be removed from pandas in a future version. Use pandas.concat instead.\n",
      "  hp_list = hp_list.append(hp,ignore_index=True)\n"
     ]
    },
    {
     "name": "stdout",
     "output_type": "stream",
     "text": [
      "{'n_estimators': 500, 'max_depth': 9, 'scale_pos_weight': 1}\n",
      "\n",
      "KFold Number: 1\n",
      "\n",
      "KFold Number: 2\n",
      "\n",
      "KFold Number: 3\n",
      "\n",
      "KFold Number: 4\n",
      "\n",
      "KFold Number: 5\n",
      "\n",
      "KFold Number: 6\n",
      "\n",
      "KFold Number: 7\n",
      "\n",
      "KFold Number: 8\n",
      "\n",
      "KFold Number: 9\n",
      "\n",
      "KFold Number: 10\n"
     ]
    },
    {
     "name": "stderr",
     "output_type": "stream",
     "text": [
      "C:\\Users\\kaka\\AppData\\Local\\Temp\\ipykernel_7044\\3241239839.py:17: FutureWarning: The frame.append method is deprecated and will be removed from pandas in a future version. Use pandas.concat instead.\n",
      "  xgb_m = xgb_m.append(xgb_cv)\n",
      "C:\\Users\\kaka\\AppData\\Local\\Temp\\ipykernel_7044\\3241239839.py:7: FutureWarning: The frame.append method is deprecated and will be removed from pandas in a future version. Use pandas.concat instead.\n",
      "  hp_list = hp_list.append(hp,ignore_index=True)\n"
     ]
    },
    {
     "name": "stdout",
     "output_type": "stream",
     "text": [
      "                       Mean_Precision_at_k   Mean_Recall_at_k\n",
      "XGBoost Classifier - 0   0.29864+/-0.00178  0.79799+/-0.00477\n",
      "{'n_estimators': 200, 'max_depth': 5, 'scale_pos_weight': 7.15}\n",
      "\n",
      "KFold Number: 1\n",
      "\n",
      "KFold Number: 2\n",
      "\n",
      "KFold Number: 3\n",
      "\n",
      "KFold Number: 4\n",
      "\n",
      "KFold Number: 5\n",
      "\n",
      "KFold Number: 6\n",
      "\n",
      "KFold Number: 7\n",
      "\n",
      "KFold Number: 8\n",
      "\n",
      "KFold Number: 9\n",
      "\n",
      "KFold Number: 10\n"
     ]
    },
    {
     "name": "stderr",
     "output_type": "stream",
     "text": [
      "C:\\Users\\kaka\\AppData\\Local\\Temp\\ipykernel_7044\\3241239839.py:17: FutureWarning: The frame.append method is deprecated and will be removed from pandas in a future version. Use pandas.concat instead.\n",
      "  xgb_m = xgb_m.append(xgb_cv)\n",
      "C:\\Users\\kaka\\AppData\\Local\\Temp\\ipykernel_7044\\3241239839.py:7: FutureWarning: The frame.append method is deprecated and will be removed from pandas in a future version. Use pandas.concat instead.\n",
      "  hp_list = hp_list.append(hp,ignore_index=True)\n"
     ]
    },
    {
     "name": "stdout",
     "output_type": "stream",
     "text": [
      "                       Mean_Precision_at_k   Mean_Recall_at_k\n",
      "XGBoost Classifier - 0   0.29864+/-0.00178  0.79799+/-0.00477\n",
      "XGBoost Classifier - 1   0.30914+/-0.00149  0.82606+/-0.00401\n",
      "{'n_estimators': 200, 'max_depth': 9, 'scale_pos_weight': 1}\n",
      "\n",
      "KFold Number: 1\n",
      "\n",
      "KFold Number: 2\n",
      "\n",
      "KFold Number: 3\n",
      "\n",
      "KFold Number: 4\n",
      "\n",
      "KFold Number: 5\n",
      "\n",
      "KFold Number: 6\n",
      "\n",
      "KFold Number: 7\n",
      "\n",
      "KFold Number: 8\n",
      "\n",
      "KFold Number: 9\n",
      "\n",
      "KFold Number: 10\n"
     ]
    },
    {
     "name": "stderr",
     "output_type": "stream",
     "text": [
      "C:\\Users\\kaka\\AppData\\Local\\Temp\\ipykernel_7044\\3241239839.py:17: FutureWarning: The frame.append method is deprecated and will be removed from pandas in a future version. Use pandas.concat instead.\n",
      "  xgb_m = xgb_m.append(xgb_cv)\n",
      "C:\\Users\\kaka\\AppData\\Local\\Temp\\ipykernel_7044\\3241239839.py:7: FutureWarning: The frame.append method is deprecated and will be removed from pandas in a future version. Use pandas.concat instead.\n",
      "  hp_list = hp_list.append(hp,ignore_index=True)\n"
     ]
    },
    {
     "name": "stdout",
     "output_type": "stream",
     "text": [
      "                       Mean_Precision_at_k   Mean_Recall_at_k\n",
      "XGBoost Classifier - 0   0.29864+/-0.00178  0.79799+/-0.00477\n",
      "XGBoost Classifier - 1   0.30914+/-0.00149  0.82606+/-0.00401\n",
      "XGBoost Classifier - 2   0.30366+/-0.00105  0.81142+/-0.00279\n",
      "{'n_estimators': 300, 'max_depth': 3, 'scale_pos_weight': 1}\n",
      "\n",
      "KFold Number: 1\n",
      "\n",
      "KFold Number: 2\n",
      "\n",
      "KFold Number: 3\n",
      "\n",
      "KFold Number: 4\n",
      "\n",
      "KFold Number: 5\n",
      "\n",
      "KFold Number: 6\n",
      "\n",
      "KFold Number: 7\n",
      "\n",
      "KFold Number: 8\n",
      "\n",
      "KFold Number: 9\n",
      "\n",
      "KFold Number: 10\n"
     ]
    },
    {
     "name": "stderr",
     "output_type": "stream",
     "text": [
      "C:\\Users\\kaka\\AppData\\Local\\Temp\\ipykernel_7044\\3241239839.py:17: FutureWarning: The frame.append method is deprecated and will be removed from pandas in a future version. Use pandas.concat instead.\n",
      "  xgb_m = xgb_m.append(xgb_cv)\n",
      "C:\\Users\\kaka\\AppData\\Local\\Temp\\ipykernel_7044\\3241239839.py:7: FutureWarning: The frame.append method is deprecated and will be removed from pandas in a future version. Use pandas.concat instead.\n",
      "  hp_list = hp_list.append(hp,ignore_index=True)\n"
     ]
    },
    {
     "name": "stdout",
     "output_type": "stream",
     "text": [
      "                       Mean_Precision_at_k   Mean_Recall_at_k\n",
      "XGBoost Classifier - 0   0.29864+/-0.00178  0.79799+/-0.00477\n",
      "XGBoost Classifier - 1   0.30914+/-0.00149  0.82606+/-0.00401\n",
      "XGBoost Classifier - 2   0.30366+/-0.00105  0.81142+/-0.00279\n",
      "XGBoost Classifier - 3   0.31127+/-0.00113  0.83174+/-0.00301\n",
      "{'n_estimators': 100, 'max_depth': 5, 'scale_pos_weight': 100}\n",
      "\n",
      "KFold Number: 1\n",
      "\n",
      "KFold Number: 2\n",
      "\n",
      "KFold Number: 3\n",
      "\n",
      "KFold Number: 4\n",
      "\n",
      "KFold Number: 5\n",
      "\n",
      "KFold Number: 6\n",
      "\n",
      "KFold Number: 7\n",
      "\n",
      "KFold Number: 8\n",
      "\n",
      "KFold Number: 9\n",
      "\n",
      "KFold Number: 10\n",
      "                       Mean_Precision_at_k   Mean_Recall_at_k\n",
      "XGBoost Classifier - 0   0.29864+/-0.00178  0.79799+/-0.00477\n",
      "XGBoost Classifier - 1   0.30914+/-0.00149  0.82606+/-0.00401\n",
      "XGBoost Classifier - 2   0.30366+/-0.00105  0.81142+/-0.00279\n",
      "XGBoost Classifier - 3   0.31127+/-0.00113  0.83174+/-0.00301\n",
      "XGBoost Classifier - 4   0.30923+/-0.00139  0.82629+/-0.00367\n"
     ]
    },
    {
     "name": "stderr",
     "output_type": "stream",
     "text": [
      "C:\\Users\\kaka\\AppData\\Local\\Temp\\ipykernel_7044\\3241239839.py:17: FutureWarning: The frame.append method is deprecated and will be removed from pandas in a future version. Use pandas.concat instead.\n",
      "  xgb_m = xgb_m.append(xgb_cv)\n"
     ]
    },
    {
     "data": {
      "text/html": [
       "<div>\n",
       "<style scoped>\n",
       "    .dataframe tbody tr th:only-of-type {\n",
       "        vertical-align: middle;\n",
       "    }\n",
       "\n",
       "    .dataframe tbody tr th {\n",
       "        vertical-align: top;\n",
       "    }\n",
       "\n",
       "    .dataframe thead th {\n",
       "        text-align: right;\n",
       "    }\n",
       "</style>\n",
       "<table border=\"1\" class=\"dataframe\">\n",
       "  <thead>\n",
       "    <tr style=\"text-align: right;\">\n",
       "      <th></th>\n",
       "      <th>Mean_Precision_at_k</th>\n",
       "      <th>Mean_Recall_at_k</th>\n",
       "    </tr>\n",
       "  </thead>\n",
       "  <tbody>\n",
       "    <tr>\n",
       "      <th>XGBoost Classifier - 0</th>\n",
       "      <td>0.29864+/-0.00178</td>\n",
       "      <td>0.79799+/-0.00477</td>\n",
       "    </tr>\n",
       "    <tr>\n",
       "      <th>XGBoost Classifier - 1</th>\n",
       "      <td>0.30914+/-0.00149</td>\n",
       "      <td>0.82606+/-0.00401</td>\n",
       "    </tr>\n",
       "    <tr>\n",
       "      <th>XGBoost Classifier - 2</th>\n",
       "      <td>0.30366+/-0.00105</td>\n",
       "      <td>0.81142+/-0.00279</td>\n",
       "    </tr>\n",
       "    <tr>\n",
       "      <th>XGBoost Classifier - 3</th>\n",
       "      <td>0.31127+/-0.00113</td>\n",
       "      <td>0.83174+/-0.00301</td>\n",
       "    </tr>\n",
       "    <tr>\n",
       "      <th>XGBoost Classifier - 4</th>\n",
       "      <td>0.30923+/-0.00139</td>\n",
       "      <td>0.82629+/-0.00367</td>\n",
       "    </tr>\n",
       "  </tbody>\n",
       "</table>\n",
       "</div>"
      ],
      "text/plain": [
       "                       Mean_Precision_at_k   Mean_Recall_at_k\n",
       "XGBoost Classifier - 0   0.29864+/-0.00178  0.79799+/-0.00477\n",
       "XGBoost Classifier - 1   0.30914+/-0.00149  0.82606+/-0.00401\n",
       "XGBoost Classifier - 2   0.30366+/-0.00105  0.81142+/-0.00279\n",
       "XGBoost Classifier - 3   0.31127+/-0.00113  0.83174+/-0.00301\n",
       "XGBoost Classifier - 4   0.30923+/-0.00139  0.82629+/-0.00367"
      ]
     },
     "execution_count": 119,
     "metadata": {},
     "output_type": "execute_result"
    }
   ],
   "source": [
    "xgb_m = pd.DataFrame()\n",
    "hp_list = pd.DataFrame()\n",
    "\n",
    "\n",
    "for i in range(MAX_EVAL):\n",
    "    hp = {k: random.sample(v,1)[0] for k,v in params.items()}\n",
    "    hp_list = hp_list.append(hp,ignore_index=True)\n",
    "    print(hp)\n",
    "    xgb_model = xgb.XGBClassifier(  objective='binary:logistic',\n",
    "                                    n_estimators = hp['n_estimators'],\n",
    "                                    max_depth = hp['max_depth'],\n",
    "                                    scale_pos_weight = hp['scale_pos_weight'],\n",
    "                                    n_jobs=-1)\n",
    "         \n",
    "    xgb_cv = cross_validation(df7,xgb_model,'XGBoost Classifier - '+str(i),5,2,20000)\n",
    "    \n",
    "    xgb_m = xgb_m.append(xgb_cv)\n",
    "    print(xgb_m)\n",
    "    \n",
    "    \n",
    "xgb_m"
   ]
  },
  {
   "cell_type": "code",
   "execution_count": 36,
   "id": "a6e87c3f",
   "metadata": {
    "ExecuteTime": {
     "end_time": "2022-08-17T00:28:24.597656Z",
     "start_time": "2022-08-17T00:28:17.129655Z"
    },
    "code_folding": [],
    "hidden": true
   },
   "outputs": [],
   "source": [
    "# model definition\n",
    "model_xgb = xgb.XGBClassifier(objective='binary:logistic',\n",
    "                              random_state=17,\n",
    "                              n_jobs=-1,\n",
    "                              max_depth = 5,\n",
    "                              n_estimators=100)\n",
    "\n",
    "#model training\n",
    "model_xgb.fit( x_train, y_train )\n",
    "\n",
    "# prediction\n",
    "yhat_xgb = model_xgb.predict( x_val )\n",
    "\n",
    "#metrics \n",
    "#print('Accuracy Score: '   + str(accuracy_score( y_val, yhat_xgb)))\n",
    "#print('Balanced Accuracy: '   + str(balanced_accuracy_score(y_val, yhat_xgb)))"
   ]
  },
  {
   "cell_type": "code",
   "execution_count": 20,
   "id": "12c56ad5",
   "metadata": {
    "ExecuteTime": {
     "end_time": "2022-08-17T00:17:46.271893Z",
     "start_time": "2022-08-17T00:17:45.989387Z"
    },
    "hidden": true
   },
   "outputs": [
    {
     "data": {
      "image/png": "[encoded data removed]",
      "text/plain": [
       "<Figure size 432x288 with 1 Axes>"
      ]
     },
     "metadata": {
      "needs_background": "light"
     },
     "output_type": "display_data"
    }
   ],
   "source": [
    "skplt.metrics.plot_cumulative_gain( y_val, yhat_xgb );"
   ]
  },
  {
   "cell_type": "markdown",
   "id": "1b93fc51",
   "metadata": {
    "heading_collapsed": true
   },
   "source": [
    "# 8.0 Perfomance Metrics"
   ]
  },
  {
   "cell_type": "code",
   "execution_count": 22,
   "id": "2a866f38",
   "metadata": {
    "ExecuteTime": {
     "end_time": "2022-08-17T00:18:25.216086Z",
     "start_time": "2022-08-17T00:18:25.208090Z"
    },
    "hidden": true
   },
   "outputs": [],
   "source": [
    "def precision_at_k( data, k=20000 ):\n",
    "    data = data.reset_index( drop=True )\n",
    "    data['ranking'] = data.index + 1\n",
    "    \n",
    "    data['precision_at_k'] = data['response'].cumsum() / data['ranking']\n",
    "    \n",
    "    return ( data.loc[ k, 'precision_at_k'], data )"
   ]
  },
  {
   "cell_type": "code",
   "execution_count": 23,
   "id": "2756a4dc",
   "metadata": {
    "ExecuteTime": {
     "end_time": "2022-08-17T00:18:27.306965Z",
     "start_time": "2022-08-17T00:18:27.288330Z"
    },
    "hidden": true
   },
   "outputs": [],
   "source": [
    " def recall_at_k( data, k=20000 ):\n",
    "    data = data.reset_index( drop=True )\n",
    "    data['ranking'] = data.index + 1\n",
    "    \n",
    "    data['recall_at_k'] = data['response'].cumsum() / data['response'].sum()\n",
    "    \n",
    "    return ( data.loc[ k, 'recall_at_k'], data )"
   ]
  },
  {
   "cell_type": "code",
   "execution_count": 24,
   "id": "be3bad1c",
   "metadata": {
    "ExecuteTime": {
     "end_time": "2022-08-17T00:18:46.890013Z",
     "start_time": "2022-08-17T00:18:46.832481Z"
    },
    "hidden": true
   },
   "outputs": [],
   "source": [
    "# copy dataframe\n",
    "df8 = x_validation.copy()\n",
    "df8['response'] = y_validation.copy()\n",
    "\n",
    "# propensity score\n",
    "df8['score'] = yhat_xgb[:, 1].tolist()\n",
    "\n",
    "# sort clients by propensity score\n",
    "df8 = df8.sort_values( 'score', ascending=False )\n",
    "\n",
    "# compute precision at k \n",
    "precision_at_200, data = precision_at_k( df8, k= 20000 )\n",
    "\n",
    "# compute recall at k\n",
    "recall_at_15, data = recall_at_k( df8, k=20000 )"
   ]
  },
  {
   "cell_type": "code",
   "execution_count": 25,
   "id": "17c36743",
   "metadata": {
    "ExecuteTime": {
     "end_time": "2022-08-17T00:18:52.914665Z",
     "start_time": "2022-08-17T00:18:52.895536Z"
    },
    "hidden": true
   },
   "outputs": [
    {
     "data": {
      "text/plain": [
       "0.33808309584520774"
      ]
     },
     "execution_count": 25,
     "metadata": {},
     "output_type": "execute_result"
    }
   ],
   "source": [
    "precision_at_200"
   ]
  },
  {
   "cell_type": "code",
   "execution_count": 29,
   "id": "9e5bb936",
   "metadata": {
    "ExecuteTime": {
     "end_time": "2022-08-17T00:22:13.697033Z",
     "start_time": "2022-08-17T00:22:13.689026Z"
    },
    "hidden": true
   },
   "outputs": [
    {
     "data": {
      "text/plain": [
       "0.7182919056724028"
      ]
     },
     "execution_count": 29,
     "metadata": {},
     "output_type": "execute_result"
    }
   ],
   "source": [
    "recall_at_15"
   ]
  },
  {
   "cell_type": "code",
   "execution_count": 39,
   "id": "e6b8bcff",
   "metadata": {
    "ExecuteTime": {
     "end_time": "2022-08-17T00:28:49.934600Z",
     "start_time": "2022-08-17T00:28:49.912615Z"
    },
    "hidden": true
   },
   "outputs": [
    {
     "name": "stderr",
     "output_type": "stream",
     "text": [
      "C:\\Users\\kaka\\anaconda3\\envs\\health_insurance_class\\lib\\site-packages\\sklearn\\metrics\\_ranking.py:1777: UndefinedMetricWarning: 'k' (2) greater than or equal to 'n_classes' (2) will result in a perfect score and is therefore meaningless.\n",
      "  warnings.warn(\n"
     ]
    },
    {
     "data": {
      "text/plain": [
       "1.0"
      ]
     },
     "execution_count": 39,
     "metadata": {},
     "output_type": "execute_result"
    }
   ],
   "source": [
    "y_true = yhat_xgb\n",
    "y_score = y_val\n",
    "\n",
    "top_k_accuracy_score(y_true, y_score, k=2)"
   ]
  },
  {
   "cell_type": "code",
   "execution_count": 40,
   "id": "88b364cb",
   "metadata": {
    "ExecuteTime": {
     "end_time": "2022-08-17T00:29:15.396656Z",
     "start_time": "2022-08-17T00:29:15.385663Z"
    },
    "hidden": true
   },
   "outputs": [
    {
     "data": {
      "text/plain": [
       "274972    0\n",
       "27327     1\n",
       "148690    0\n",
       "4921      1\n",
       "293851    0\n",
       "         ..\n",
       "195790    0\n",
       "154740    0\n",
       "300180    0\n",
       "123160    0\n",
       "99090     0\n",
       "Name: response, Length: 76222, dtype: int64"
      ]
     },
     "execution_count": 40,
     "metadata": {},
     "output_type": "execute_result"
    }
   ],
   "source": [
    "y_val"
   ]
  },
  {
   "cell_type": "code",
   "execution_count": 54,
   "id": "6e562e0c",
   "metadata": {
    "ExecuteTime": {
     "end_time": "2022-08-17T00:31:37.613248Z",
     "start_time": "2022-08-17T00:31:37.574782Z"
    },
    "hidden": true
   },
   "outputs": [
    {
     "ename": "AttributeError",
     "evalue": "'DataFrame' object has no attribute 'unique'",
     "output_type": "error",
     "traceback": [
      "\u001b[1;31m---------------------------------------------------------------------------\u001b[0m",
      "\u001b[1;31mAttributeError\u001b[0m                            Traceback (most recent call last)",
      "Input \u001b[1;32mIn [54]\u001b[0m, in \u001b[0;36m<cell line: 2>\u001b[1;34m()\u001b[0m\n\u001b[0;32m      1\u001b[0m p \u001b[38;5;241m=\u001b[39m (pd\u001b[38;5;241m.\u001b[39mDataFrame(y_val))\n\u001b[1;32m----> 2\u001b[0m \u001b[43mp\u001b[49m\u001b[38;5;241;43m.\u001b[39;49m\u001b[43munique\u001b[49m\n",
      "File \u001b[1;32m~\\anaconda3\\envs\\health_insurance_class\\lib\\site-packages\\pandas\\core\\generic.py:5575\u001b[0m, in \u001b[0;36mNDFrame.__getattr__\u001b[1;34m(self, name)\u001b[0m\n\u001b[0;32m   5568\u001b[0m \u001b[38;5;28;01mif\u001b[39;00m (\n\u001b[0;32m   5569\u001b[0m     name \u001b[38;5;129;01mnot\u001b[39;00m \u001b[38;5;129;01min\u001b[39;00m \u001b[38;5;28mself\u001b[39m\u001b[38;5;241m.\u001b[39m_internal_names_set\n\u001b[0;32m   5570\u001b[0m     \u001b[38;5;129;01mand\u001b[39;00m name \u001b[38;5;129;01mnot\u001b[39;00m \u001b[38;5;129;01min\u001b[39;00m \u001b[38;5;28mself\u001b[39m\u001b[38;5;241m.\u001b[39m_metadata\n\u001b[0;32m   5571\u001b[0m     \u001b[38;5;129;01mand\u001b[39;00m name \u001b[38;5;129;01mnot\u001b[39;00m \u001b[38;5;129;01min\u001b[39;00m \u001b[38;5;28mself\u001b[39m\u001b[38;5;241m.\u001b[39m_accessors\n\u001b[0;32m   5572\u001b[0m     \u001b[38;5;129;01mand\u001b[39;00m \u001b[38;5;28mself\u001b[39m\u001b[38;5;241m.\u001b[39m_info_axis\u001b[38;5;241m.\u001b[39m_can_hold_identifiers_and_holds_name(name)\n\u001b[0;32m   5573\u001b[0m ):\n\u001b[0;32m   5574\u001b[0m     \u001b[38;5;28;01mreturn\u001b[39;00m \u001b[38;5;28mself\u001b[39m[name]\n\u001b[1;32m-> 5575\u001b[0m \u001b[38;5;28;01mreturn\u001b[39;00m \u001b[38;5;28;43mobject\u001b[39;49m\u001b[38;5;241;43m.\u001b[39;49m\u001b[38;5;21;43m__getattribute__\u001b[39;49m\u001b[43m(\u001b[49m\u001b[38;5;28;43mself\u001b[39;49m\u001b[43m,\u001b[49m\u001b[43m \u001b[49m\u001b[43mname\u001b[49m\u001b[43m)\u001b[49m\n",
      "\u001b[1;31mAttributeError\u001b[0m: 'DataFrame' object has no attribute 'unique'"
     ]
    }
   ],
   "source": []
  },
  {
   "cell_type": "code",
   "execution_count": 27,
   "id": "42ff1f30",
   "metadata": {
    "ExecuteTime": {
     "end_time": "2022-08-17T00:20:14.539625Z",
     "start_time": "2022-08-17T00:20:14.517637Z"
    },
    "hidden": true
   },
   "outputs": [
    {
     "data": {
      "text/plain": [
       "0.75"
      ]
     },
     "execution_count": 27,
     "metadata": {},
     "output_type": "execute_result"
    }
   ],
   "source": [
    "import numpy as np\n",
    "from sklearn.metrics import top_k_accuracy_score\n",
    "\n",
    "y_true = np.array([0, 1, 2, 2])\n",
    "y_score = np.array([[0.5, 0.2, 0.2],  # 0 is in top 2\n",
    "                    [0.3, 0.4, 0.2],  # 1 is in top 2\n",
    "                    [0.2, 0.4, 0.3],  # 2 is in top 2\n",
    "                    [0.7, 0.2, 0.1]]) # 2 isn't in top 2\n",
    "\n",
    "top_k_accuracy_score(y_true, y_score, k=2)"
   ]
  },
  {
   "cell_type": "code",
   "execution_count": 112,
   "id": "9e85bd64",
   "metadata": {
    "ExecuteTime": {
     "end_time": "2022-08-13T17:04:06.161846Z",
     "start_time": "2022-08-13T17:04:06.143856Z"
    },
    "hidden": true
   },
   "outputs": [],
   "source": [
    "y_true = np.array( [1, 0, 1, 1, 0, 1, 0, 0] )\n",
    "y_score = np.array( [])"
   ]
  },
  {
   "cell_type": "markdown",
   "id": "2605fa44",
   "metadata": {
    "hidden": true
   },
   "source": [
    "## Cumulative Curve Manually"
   ]
  },
  {
   "cell_type": "code",
   "execution_count": 244,
   "id": "4fc2bbec",
   "metadata": {
    "ExecuteTime": {
     "end_time": "2022-08-16T01:06:14.132917Z",
     "start_time": "2022-08-16T01:06:09.432522Z"
    },
    "hidden": true
   },
   "outputs": [
    {
     "data": {
      "text/plain": [
       "<AxesSubplot:xlabel='base_cum_perc', ylabel='real_cum_perc'>"
      ]
     },
     "execution_count": 244,
     "metadata": {},
     "output_type": "execute_result"
    },
    {
     "data": {
      "image/png": "[encoded data removed]",
      "text/plain": [
       "<Figure size 864x576 with 1 Axes>"
      ]
     },
     "metadata": {
      "needs_background": "light"
     },
     "output_type": "display_data"
    }
   ],
   "source": [
    "results = pd.DataFrame()\n",
    "results['prediction'] = yhat_xgb[:,1].tolist()\n",
    "results['real'] = y_val.tolist()\n",
    "\n",
    "# ordering by prediction\n",
    "results = results.sort_values( 'prediction', ascending=False )\n",
    "\n",
    "# Percentage of intereset ( Propensity Score )\n",
    "results['real_cum'] = results['real'].cumsum() \n",
    "results['real_cum_perc'] = 100*results['real_cum']/results['real'].sum()\n",
    "\n",
    "# Percentage of Base ( Clients )\n",
    "results['base'] = range( 1, len( results ) + 1  )\n",
    "results['base_cum_perc'] = 100*results['base']/len( results )\n",
    "\n",
    "# Basline model\n",
    "results['baseline'] = results['base_cum_perc']\n",
    "\n",
    "plt.figure( figsize=(12,8))\n",
    "sns.lineplot( x='base_cum_perc', y='real_cum_perc', data=results )\n",
    "sns.lineplot( x='base_cum_perc', y='baseline', data=results )"
   ]
  },
  {
   "cell_type": "markdown",
   "id": "ce135071",
   "metadata": {
    "hidden": true
   },
   "source": [
    "## Lift Curve Manually"
   ]
  },
  {
   "cell_type": "code",
   "execution_count": 46,
   "id": "f6d80ce2",
   "metadata": {
    "ExecuteTime": {
     "end_time": "2022-08-08T19:31:10.471516Z",
     "start_time": "2022-08-08T19:31:07.150828Z"
    },
    "hidden": true
   },
   "outputs": [
    {
     "data": {
      "text/plain": [
       "<AxesSubplot:xlabel='base_cum_perc', ylabel='lift'>"
      ]
     },
     "execution_count": 46,
     "metadata": {},
     "output_type": "execute_result"
    },
    {
     "data": {
      "image/png": "[encoded data removed]",
      "text/plain": [
       "<Figure size 864x576 with 1 Axes>"
      ]
     },
     "metadata": {
      "needs_background": "light"
     },
     "output_type": "display_data"
    }
   ],
   "source": [
    "results = pd.DataFrame()\n",
    "results['prediction'] = yhat_et[:,1].tolist()\n",
    "results['real'] = y_val.tolist()\n",
    "\n",
    "# ordering by prediction\n",
    "results = results.sort_values( 'prediction', ascending=False )\n",
    "\n",
    "# Percentage of intereset ( Propensity Score )\n",
    "results['real_cum'] = results['real'].cumsum() \n",
    "results['real_cum_perc'] = 100*results['real_cum']/results['real'].sum()\n",
    "\n",
    "# Percentage of Base ( Clients )\n",
    "results['base'] = range( 1, len( results ) + 1  )\n",
    "results['base_cum_perc'] = 100*results['base']/len( results )\n",
    "\n",
    "# Basline model\n",
    "results['baseline'] = results['base_cum_perc']\n",
    "\n",
    "# Lift Calculation\n",
    "results['lift'] = results['real_cum_perc'] / results['base_cum_perc']\n",
    "\n",
    "plt.figure( figsize=(12,8))\n",
    "sns.lineplot( x='base_cum_perc', y='lift', data=results )"
   ]
  },
  {
   "cell_type": "markdown",
   "id": "a7eb88a0",
   "metadata": {
    "hidden": true
   },
   "source": [
    "## ROI Curve Manually"
   ]
  },
  {
   "cell_type": "code",
   "execution_count": 47,
   "id": "04ae34fc",
   "metadata": {
    "ExecuteTime": {
     "end_time": "2022-08-08T19:32:14.889240Z",
     "start_time": "2022-08-08T19:32:12.219944Z"
    },
    "hidden": true
   },
   "outputs": [
    {
     "data": {
      "text/plain": [
       "<AxesSubplot:xlabel='base_cum_perc', ylabel='lift'>"
      ]
     },
     "execution_count": 47,
     "metadata": {},
     "output_type": "execute_result"
    },
    {
     "data": {
      "image/png": "[encoded data removed]",
      "text/plain": [
       "<Figure size 864x576 with 1 Axes>"
      ]
     },
     "metadata": {
      "needs_background": "light"
     },
     "output_type": "display_data"
    }
   ],
   "source": [
    "results = pd.DataFrame()\n",
    "results['prediction'] = yhat_et[:,1].tolist()\n",
    "results['real'] = y_val.tolist()\n",
    "\n",
    "# ordering by prediction\n",
    "results = results.sort_values( 'prediction', ascending=False )\n",
    "\n",
    "# Percentage of intereset ( Propensity Score )\n",
    "results['real_cum'] = results['real'].cumsum() \n",
    "results['real_cum_perc'] = 100*results['real_cum']/results['real'].sum()\n",
    "\n",
    "# Percentage of Base ( Clients )\n",
    "results['base'] = range( 1, len( results ) + 1  )\n",
    "results['base_cum_perc'] = 100*results['base']/len( results )\n",
    "\n",
    "# Basline model\n",
    "results['baseline'] = results['base_cum_perc']\n",
    "\n",
    "# Lift Calculation\n",
    "results['lift'] = results['real_cum_perc'] / results['base_cum_perc']\n",
    "\n",
    "# ROI Curve\n",
    "\n",
    "\n",
    "plt.figure( figsize=(12,8))\n",
    "sns.lineplot( x='base_cum_perc', y='lift', data=results )"
   ]
  },
  {
   "cell_type": "code",
   "execution_count": 80,
   "id": "4a5d4187",
   "metadata": {
    "ExecuteTime": {
     "end_time": "2022-08-15T22:43:30.506832Z",
     "start_time": "2022-08-15T22:43:30.381911Z"
    },
    "hidden": true
   },
   "outputs": [
    {
     "data": {
      "text/html": [
       "<div>\n",
       "<style scoped>\n",
       "    .dataframe tbody tr th:only-of-type {\n",
       "        vertical-align: middle;\n",
       "    }\n",
       "\n",
       "    .dataframe tbody tr th {\n",
       "        vertical-align: top;\n",
       "    }\n",
       "\n",
       "    .dataframe thead th {\n",
       "        text-align: right;\n",
       "    }\n",
       "</style>\n",
       "<table border=\"1\" class=\"dataframe\">\n",
       "  <thead>\n",
       "    <tr style=\"text-align: right;\">\n",
       "      <th></th>\n",
       "      <th>index</th>\n",
       "      <th>clients</th>\n",
       "      <th>propensity_score</th>\n",
       "      <th>gross_revenue</th>\n",
       "      <th>cost</th>\n",
       "      <th>base</th>\n",
       "      <th>revenue</th>\n",
       "    </tr>\n",
       "  </thead>\n",
       "  <tbody>\n",
       "    <tr>\n",
       "      <th>4</th>\n",
       "      <td>0.40</td>\n",
       "      <td>0.400050</td>\n",
       "      <td>1970</td>\n",
       "      <td>31523.974001</td>\n",
       "      <td>1.600202</td>\n",
       "      <td>1.000000</td>\n",
       "      <td>31522.373800</td>\n",
       "    </tr>\n",
       "    <tr>\n",
       "      <th>3</th>\n",
       "      <td>0.30</td>\n",
       "      <td>0.300001</td>\n",
       "      <td>11330</td>\n",
       "      <td>135960.545659</td>\n",
       "      <td>1.200005</td>\n",
       "      <td>0.600404</td>\n",
       "      <td>135959.345654</td>\n",
       "    </tr>\n",
       "    <tr>\n",
       "      <th>2</th>\n",
       "      <td>0.20</td>\n",
       "      <td>0.200026</td>\n",
       "      <td>11381</td>\n",
       "      <td>91059.757344</td>\n",
       "      <td>0.800103</td>\n",
       "      <td>0.300744</td>\n",
       "      <td>91058.957240</td>\n",
       "    </tr>\n",
       "    <tr>\n",
       "      <th>1</th>\n",
       "      <td>0.10</td>\n",
       "      <td>0.100006</td>\n",
       "      <td>8511</td>\n",
       "      <td>34046.138756</td>\n",
       "      <td>0.400025</td>\n",
       "      <td>0.100945</td>\n",
       "      <td>34045.738731</td>\n",
       "    </tr>\n",
       "    <tr>\n",
       "      <th>0</th>\n",
       "      <td>0.01</td>\n",
       "      <td>0.001054</td>\n",
       "      <td>43030</td>\n",
       "      <td>1813.810364</td>\n",
       "      <td>0.004215</td>\n",
       "      <td>0.001053</td>\n",
       "      <td>1813.806148</td>\n",
       "    </tr>\n",
       "  </tbody>\n",
       "</table>\n",
       "</div>"
      ],
      "text/plain": [
       "   index   clients  propensity_score  gross_revenue      cost      base  \\\n",
       "4   0.40  0.400050              1970   31523.974001  1.600202  1.000000   \n",
       "3   0.30  0.300001             11330  135960.545659  1.200005  0.600404   \n",
       "2   0.20  0.200026             11381   91059.757344  0.800103  0.300744   \n",
       "1   0.10  0.100006              8511   34046.138756  0.400025  0.100945   \n",
       "0   0.01  0.001054             43030    1813.810364  0.004215  0.001053   \n",
       "\n",
       "         revenue  \n",
       "4   31522.373800  \n",
       "3  135959.345654  \n",
       "2   91058.957240  \n",
       "1   34045.738731  \n",
       "0    1813.806148  "
      ]
     },
     "execution_count": 80,
     "metadata": {},
     "output_type": "execute_result"
    }
   ],
   "source": [
    "# Compute bucket\n",
    "results['bucket'] = results['prediction'].apply( lambda x: 0.9 if x >= 0.90 else \n",
    "                                                           0.8 if ( x >= 0.80) & ( x <= 0.90 ) else \n",
    "                                                           0.7 if ( x >= 0.70) & ( x <= 0.80 ) else \n",
    "                                                           0.6 if ( x >= 0.60) & ( x <= 0.70 ) else \n",
    "                                                           0.5 if ( x >= 0.50) & ( x <= 0.60 ) else \n",
    "                                                           0.4 if ( x >= 0.40) & ( x <= 0.50 ) else \n",
    "                                                           0.3 if ( x >= 0.30) & ( x <= 0.40 ) else \n",
    "                                                           0.2 if ( x >= 0.20) & ( x <= 0.30 ) else \n",
    "                                                           0.1 if ( x >= 0.10) & ( x <= 0.20 ) else 0.01 )\n",
    "\n",
    "#  Aggregate clients among buckets\n",
    "df = results[['prediction','bucket']].groupby( 'bucket' ).agg( {'min', 'count'} ).reset_index()\n",
    "df.columns = df.columns.droplevel()\n",
    "df.columns = ['index', 'clients', 'propensity_score']\n",
    "\n",
    "# Compute revenue and cost\n",
    "df['gross_revenue'] = 40 * df['clients'] * df['propensity_score'] \n",
    "df['cost'] = 4 * df['clients']\n",
    "\n",
    "df['base'] = df['clients'].sort_values( ascending=True ).cumsum() / df['clients'].sum()\n",
    "\n",
    "# revenue\n",
    "df['revenue'] = df['gross_revenue'] - df['cost']\n",
    "df = df.sort_values( 'index', ascending=False )\n",
    "df"
   ]
  },
  {
   "cell_type": "code",
   "execution_count": 81,
   "id": "58fcf1ab",
   "metadata": {
    "ExecuteTime": {
     "end_time": "2022-08-15T22:43:38.185867Z",
     "start_time": "2022-08-15T22:43:37.994984Z"
    },
    "hidden": true
   },
   "outputs": [
    {
     "data": {
      "text/plain": [
       "<AxesSubplot:xlabel='base', ylabel='revenue'>"
      ]
     },
     "execution_count": 81,
     "metadata": {},
     "output_type": "execute_result"
    },
    {
     "data": {
      "image/png": "[encoded data removed]",
      "text/plain": [
       "<Figure size 864x576 with 1 Axes>"
      ]
     },
     "metadata": {
      "needs_background": "light"
     },
     "output_type": "display_data"
    }
   ],
   "source": [
    "plt.figure( figsize=(12,8))\n",
    "aux = df[df['propensity_score'] >= 0.1]\n",
    "sns.lineplot( x='base', y='revenue', data=aux )"
   ]
  },
  {
   "cell_type": "markdown",
   "id": "dcefd68c",
   "metadata": {},
   "source": [
    "# 9.0 Model to deploy"
   ]
  },
  {
   "cell_type": "code",
   "execution_count": 170,
   "id": "9cc66a69",
   "metadata": {
    "ExecuteTime": {
     "end_time": "2022-08-15T23:40:18.749008Z",
     "start_time": "2022-08-15T23:40:18.732020Z"
    }
   },
   "outputs": [],
   "source": [
    "# Save trained model\n",
    "#pickle.dump( model_xgb, open( '../src/models/model_health_insurance.pkl', 'wb' ) )\n",
    "#pickle.dump( lr_model, open( '../src/models/model_linear_regression.pkl', 'wb' ) )\n",
    "pickle.dump( xgb_model, open( '../src/models/model_xgb_.pkl', 'wb' ) )"
   ]
  },
  {
   "cell_type": "markdown",
   "id": "ca47b86e",
   "metadata": {
    "heading_collapsed": true
   },
   "source": [
    "## 9.1 Health Insurance Class"
   ]
  },
  {
   "cell_type": "code",
   "execution_count": 1,
   "id": "a2e8ca0e",
   "metadata": {
    "ExecuteTime": {
     "end_time": "2022-08-12T21:47:53.685096Z",
     "start_time": "2022-08-12T21:47:53.126439Z"
    },
    "hidden": true
   },
   "outputs": [],
   "source": [
    "import pickle\n",
    "import numpy  as np\n",
    "import pandas as pd\n",
    "\n",
    "class Insurance (object):\n",
    "    \n",
    "    def __init__( self ):\n",
    "        self.home_path = 'C:/Usuários/kaka/Projetos_DS/health-insurance-cross-sell/'\n",
    "        self.annual_premium_scaler =            pickle.load( open( self.home_path + 'src/features/annual_premium_scaler.pkl' ) )\n",
    "        self.age_scaler =                       pickle.load( open( self.home_path + 'src/features/age_scaler.pkl' ) ) \n",
    "        self.vintage_scaler =                   pickle.load( open( self.home_path + 'src/features/vintage_scaler.pkl' ) ) \n",
    "        self.target_encode_gender_scaler =      pickle.load( open( self.home_path + 'src/features/target_encode_gender_scaler.pkl' ) )\n",
    "        self.target_encode_region_code_scaler = pickle.load( open( self.home_path + 'src/features/target_encode_region_code_scaler.pkl' ) )\n",
    "        self.fe_policy_sales_channel_scaler =   pickle.load( open( self.home_path + 'src/features/fe_policy_sales_channel_scaler.pkl' ) )\n",
    "        \n",
    "    def data_cleaning( self, df1 ):\n",
    "        # 1.1. Rename Columns\n",
    "        cols_new = ['id', 'gender', 'age', 'driving_license', 'region_code', 'previously_insured', 'vehicle_age', \n",
    "                    'vehicle_damage', 'annual_premium', 'policy_sales_channel', 'vintage', 'response']\n",
    "\n",
    "        # rename \n",
    "        df1.columns = cols_new\n",
    "        \n",
    "        return df1 \n",
    "\n",
    "    \n",
    "    def feature_engineering( self, df2 ):\n",
    "        # 2.0. Feature Engineering\n",
    "\n",
    "        # Vehicle Damage Number\n",
    "        df2['vehicle_damage'] = df2['vehicle_damage'].apply( lambda x: 1 if x == 'Yes' else 0 )\n",
    "\n",
    "        # Vehicle Age\n",
    "        df2['vehicle_age'] =  df2['vehicle_age'].apply( lambda x: 'over_2_years' if x == '> 2 Years' else 'between_1_2_year' if x == '1-2 Year' else 'below_1_year' )\n",
    "        \n",
    "        return df2\n",
    "    \n",
    "    \n",
    "    def data_preparation( self, df5 ):\n",
    "        # anual premium - StandarScaler\n",
    "        df5['annual_premium'] = self.annual_premium_scaler.transform( df5[['annual_premium']].values )\n",
    "\n",
    "        # Age - MinMaxScaler\n",
    "        df5['age'] = self.age_scaler.transform( df5[['age']].values )\n",
    "\n",
    "        # Vintage - MinMaxScaler\n",
    "        df5['vintage'] = self.vintage_scaler.transform( df5[['vintage']].values )\n",
    "\n",
    "        # gender - One Hot Encoding / Target Encoding\n",
    "        df5.loc[:, 'gender'] = df5['gender'].map( self.target_encode_gender )\n",
    "\n",
    "        # region_code - Target Encoding / Frequency Encoding\n",
    "        df5.loc[:, 'region_code'] = df5['region_code'].map( self.target_encode_region_code )\n",
    "\n",
    "        # vehicle_age - One Hot Encoding / Frequency Encoding\n",
    "        df5 = pd.get_dummies( df5, prefix='vehicle_age', columns=['vehicle_age'] )\n",
    "\n",
    "        # policy_sales_channel - Target Encoding / Frequency Encoding\n",
    "        df5.loc[:, 'policy_sales_channel'] = df5['policy_sales_channel'].map( self.fe_policy_sales_channel )\n",
    "        \n",
    "        # Feature Selection\n",
    "        cols_selected = ['annual_premium', 'vintage', 'age', 'region_code', 'vehicle_damage', 'previously_insured',\n",
    "                         'policy_sales_channel']\n",
    "        \n",
    "        return df5[ cols_selected ]\n",
    "    \n",
    "    \n",
    "    def get_prediction( self, model, original_data, test_data ):\n",
    "        # model prediction\n",
    "        pred = model.predict_proba( test_data )\n",
    "        \n",
    "        # join prediction into original data\n",
    "        original_data['prediction'] = pred\n",
    "        \n",
    "        return original_data.to_json( orient='records', date_format='iso' )"
   ]
  },
  {
   "cell_type": "markdown",
   "id": "01f27444",
   "metadata": {
    "heading_collapsed": true
   },
   "source": [
    "## 9.2 API Handler"
   ]
  },
  {
   "cell_type": "code",
   "execution_count": null,
   "id": "a7575bc6",
   "metadata": {
    "ExecuteTime": {
     "end_time": "2022-08-12T22:07:17.010007Z",
     "start_time": "2022-08-12T22:07:16.977027Z"
    },
    "hidden": true
   },
   "outputs": [],
   "source": [
    "import pickle\n",
    "import pandas as pd\n",
    "\n",
    "from flask               import Flask, request, Response\n",
    "from insurance.Insurance import Insurance\n",
    "\n",
    "# loading model\n",
    "path = 'C:/Usuários/kaka/Projetos_DS/health-insurance-cross-sell/'\n",
    "model = pickle.load( open( path + 'src/models/model_linear_regression.pkl', 'rb' ) )\n",
    "\n",
    "# initialize API\n",
    "app = Flask( __name__ )\n",
    "\n",
    "@app.route( '/insurance/predict', methods=['POST'] )\n",
    "def health_insurance_predict():\n",
    "    test_json = request.get_json()\n",
    "    \n",
    "    if test_json: # there is data\n",
    "        if isinstance( test_json, dict ): # unique example\n",
    "            test_raw = pd.DataFrame( test_json, index=[0] )\n",
    "            \n",
    "        else: # multiple example\n",
    "            test_raw = pd.DataFrame( test_json, columns=test_json[0].keys() )\n",
    "            \n",
    "        # Instantiate Rossmann class\n",
    "        pipeline = HealthInsurance()\n",
    "        \n",
    "        # data cleaning\n",
    "        df1 = pipeline.data_cleaning( test_raw )\n",
    "        \n",
    "        # feature engineering\n",
    "        df2 = pipeline.feature_engineering( df1 )\n",
    "        \n",
    "        # data preparation\n",
    "        df3 = pipeline.data_preparation( df2 )\n",
    "        \n",
    "        # prediction\n",
    "        df_response = pipeline.get_prediction( model, test_raw, df3 )\n",
    "        \n",
    "        return df_response\n",
    "    \n",
    "    else:\n",
    "        return Response( '{}', status=200, mimetype='application/json' )\n",
    "    \n",
    "if __name__ == '__main__':\n",
    "    app.run( '10.0.0.104', port=5000 )"
   ]
  },
  {
   "cell_type": "markdown",
   "id": "6b4f46aa",
   "metadata": {},
   "source": [
    "## 9.3 API Test"
   ]
  },
  {
   "cell_type": "code",
   "execution_count": 84,
   "id": "6a26b241",
   "metadata": {
    "ExecuteTime": {
     "end_time": "2022-08-15T22:50:02.416299Z",
     "start_time": "2022-08-15T22:50:02.237673Z"
    }
   },
   "outputs": [],
   "source": [
    "import requests\n",
    "import pandas as pd"
   ]
  },
  {
   "cell_type": "code",
   "execution_count": 171,
   "id": "51187950",
   "metadata": {
    "ExecuteTime": {
     "end_time": "2022-08-15T23:40:41.951275Z",
     "start_time": "2022-08-15T23:40:41.785381Z"
    }
   },
   "outputs": [],
   "source": [
    "#loading dataset\n",
    "# loading test dataset\n",
    "df_test = pd.read_csv('C:/Users/kaka/Projetos_DS/health-insurance-cross-sell/data/raw/test.csv')"
   ]
  },
  {
   "cell_type": "code",
   "execution_count": 172,
   "id": "e65e01d7",
   "metadata": {
    "ExecuteTime": {
     "end_time": "2022-08-15T23:40:44.344733Z",
     "start_time": "2022-08-15T23:40:42.553606Z"
    }
   },
   "outputs": [],
   "source": [
    "data = json.dumps(df_test.to_dict(orient = 'records'))"
   ]
  },
  {
   "cell_type": "code",
   "execution_count": 174,
   "id": "4c8ae01d",
   "metadata": {
    "ExecuteTime": {
     "end_time": "2022-08-15T23:43:22.071436Z",
     "start_time": "2022-08-15T23:43:20.486000Z"
    }
   },
   "outputs": [
    {
     "name": "stdout",
     "output_type": "stream",
     "text": [
      "Status code 200\n"
     ]
    }
   ],
   "source": [
    "# API Call\n",
    "url = 'http://127.0.0.1:5000/predict'\n",
    "#url = 'https://health-insurance-cross.herokuapp.com/predict'\n",
    "\n",
    "header = {'Content-type':'application/json'}\n",
    "r = requests.post(url,data,headers=header)\n",
    "print('Status code {}'.format(r.status_code))"
   ]
  },
  {
   "cell_type": "code",
   "execution_count": 175,
   "id": "828debb9",
   "metadata": {
    "ExecuteTime": {
     "end_time": "2022-08-15T23:43:25.498812Z",
     "start_time": "2022-08-15T23:43:24.520973Z"
    }
   },
   "outputs": [],
   "source": [
    "ex = pd.DataFrame(r.json())"
   ]
  },
  {
   "cell_type": "code",
   "execution_count": 176,
   "id": "df434f7f",
   "metadata": {
    "ExecuteTime": {
     "end_time": "2022-08-15T23:43:27.625993Z",
     "start_time": "2022-08-15T23:43:27.597011Z"
    }
   },
   "outputs": [
    {
     "data": {
      "text/html": [
       "<div>\n",
       "<style scoped>\n",
       "    .dataframe tbody tr th:only-of-type {\n",
       "        vertical-align: middle;\n",
       "    }\n",
       "\n",
       "    .dataframe tbody tr th {\n",
       "        vertical-align: top;\n",
       "    }\n",
       "\n",
       "    .dataframe thead th {\n",
       "        text-align: right;\n",
       "    }\n",
       "</style>\n",
       "<table border=\"1\" class=\"dataframe\">\n",
       "  <thead>\n",
       "    <tr style=\"text-align: right;\">\n",
       "      <th></th>\n",
       "      <th>id</th>\n",
       "      <th>gender</th>\n",
       "      <th>age</th>\n",
       "      <th>driving_license</th>\n",
       "      <th>region_code</th>\n",
       "      <th>previously_insured</th>\n",
       "      <th>vehicle_age</th>\n",
       "      <th>vehicle_damage</th>\n",
       "      <th>annual_premium</th>\n",
       "      <th>policy_sales_channel</th>\n",
       "      <th>vintage</th>\n",
       "      <th>score</th>\n",
       "    </tr>\n",
       "  </thead>\n",
       "  <tbody>\n",
       "    <tr>\n",
       "      <th>0</th>\n",
       "      <td>381110</td>\n",
       "      <td>1</td>\n",
       "      <td>0.076923</td>\n",
       "      <td>1</td>\n",
       "      <td>0.111692</td>\n",
       "      <td>1</td>\n",
       "      <td>below_1_year</td>\n",
       "      <td>0</td>\n",
       "      <td>0.305632</td>\n",
       "      <td>152.0</td>\n",
       "      <td>0.148789</td>\n",
       "      <td>0.001039</td>\n",
       "    </tr>\n",
       "    <tr>\n",
       "      <th>1</th>\n",
       "      <td>381111</td>\n",
       "      <td>1</td>\n",
       "      <td>0.307692</td>\n",
       "      <td>1</td>\n",
       "      <td>0.188400</td>\n",
       "      <td>0</td>\n",
       "      <td>between_1_2_year</td>\n",
       "      <td>1</td>\n",
       "      <td>0.187424</td>\n",
       "      <td>7.0</td>\n",
       "      <td>0.349481</td>\n",
       "      <td>0.287394</td>\n",
       "    </tr>\n",
       "    <tr>\n",
       "      <th>2</th>\n",
       "      <td>381112</td>\n",
       "      <td>1</td>\n",
       "      <td>0.415385</td>\n",
       "      <td>1</td>\n",
       "      <td>0.188400</td>\n",
       "      <td>0</td>\n",
       "      <td>between_1_2_year</td>\n",
       "      <td>1</td>\n",
       "      <td>0.554663</td>\n",
       "      <td>124.0</td>\n",
       "      <td>0.653979</td>\n",
       "      <td>0.301827</td>\n",
       "    </tr>\n",
       "    <tr>\n",
       "      <th>3</th>\n",
       "      <td>381113</td>\n",
       "      <td>1</td>\n",
       "      <td>0.061538</td>\n",
       "      <td>1</td>\n",
       "      <td>0.072257</td>\n",
       "      <td>1</td>\n",
       "      <td>below_1_year</td>\n",
       "      <td>1</td>\n",
       "      <td>0.397325</td>\n",
       "      <td>152.0</td>\n",
       "      <td>0.612457</td>\n",
       "      <td>0.006239</td>\n",
       "    </tr>\n",
       "    <tr>\n",
       "      <th>4</th>\n",
       "      <td>381114</td>\n",
       "      <td>1</td>\n",
       "      <td>0.107692</td>\n",
       "      <td>1</td>\n",
       "      <td>0.188400</td>\n",
       "      <td>1</td>\n",
       "      <td>below_1_year</td>\n",
       "      <td>0</td>\n",
       "      <td>1.667064</td>\n",
       "      <td>152.0</td>\n",
       "      <td>0.993080</td>\n",
       "      <td>0.001039</td>\n",
       "    </tr>\n",
       "  </tbody>\n",
       "</table>\n",
       "</div>"
      ],
      "text/plain": [
       "       id  gender       age  driving_license  region_code  previously_insured  \\\n",
       "0  381110       1  0.076923                1     0.111692                   1   \n",
       "1  381111       1  0.307692                1     0.188400                   0   \n",
       "2  381112       1  0.415385                1     0.188400                   0   \n",
       "3  381113       1  0.061538                1     0.072257                   1   \n",
       "4  381114       1  0.107692                1     0.188400                   1   \n",
       "\n",
       "        vehicle_age  vehicle_damage  annual_premium  policy_sales_channel  \\\n",
       "0      below_1_year               0        0.305632                 152.0   \n",
       "1  between_1_2_year               1        0.187424                   7.0   \n",
       "2  between_1_2_year               1        0.554663                 124.0   \n",
       "3      below_1_year               1        0.397325                 152.0   \n",
       "4      below_1_year               0        1.667064                 152.0   \n",
       "\n",
       "    vintage     score  \n",
       "0  0.148789  0.001039  \n",
       "1  0.349481  0.287394  \n",
       "2  0.653979  0.301827  \n",
       "3  0.612457  0.006239  \n",
       "4  0.993080  0.001039  "
      ]
     },
     "execution_count": 176,
     "metadata": {},
     "output_type": "execute_result"
    }
   ],
   "source": [
    "ex.head()"
   ]
  },
  {
   "cell_type": "code",
   "execution_count": 185,
   "id": "9f1e9631",
   "metadata": {
    "ExecuteTime": {
     "end_time": "2022-08-15T23:53:37.714783Z",
     "start_time": "2022-08-15T23:53:37.664811Z"
    }
   },
   "outputs": [
    {
     "data": {
      "text/html": [
       "<div>\n",
       "<style scoped>\n",
       "    .dataframe tbody tr th:only-of-type {\n",
       "        vertical-align: middle;\n",
       "    }\n",
       "\n",
       "    .dataframe tbody tr th {\n",
       "        vertical-align: top;\n",
       "    }\n",
       "\n",
       "    .dataframe thead th {\n",
       "        text-align: right;\n",
       "    }\n",
       "</style>\n",
       "<table border=\"1\" class=\"dataframe\">\n",
       "  <thead>\n",
       "    <tr style=\"text-align: right;\">\n",
       "      <th></th>\n",
       "      <th>id</th>\n",
       "      <th>gender</th>\n",
       "      <th>age</th>\n",
       "      <th>driving_license</th>\n",
       "      <th>region_code</th>\n",
       "      <th>previously_insured</th>\n",
       "      <th>vehicle_age</th>\n",
       "      <th>vehicle_damage</th>\n",
       "      <th>annual_premium</th>\n",
       "      <th>policy_sales_channel</th>\n",
       "      <th>vintage</th>\n",
       "      <th>score</th>\n",
       "    </tr>\n",
       "  </thead>\n",
       "  <tbody>\n",
       "    <tr>\n",
       "      <th>97750</th>\n",
       "      <td>478860</td>\n",
       "      <td>1</td>\n",
       "      <td>0.861538</td>\n",
       "      <td>1</td>\n",
       "      <td>0.122955</td>\n",
       "      <td>0</td>\n",
       "      <td>over_2_years</td>\n",
       "      <td>1</td>\n",
       "      <td>0.431140</td>\n",
       "      <td>26.0</td>\n",
       "      <td>0.276817</td>\n",
       "      <td>0.531744</td>\n",
       "    </tr>\n",
       "    <tr>\n",
       "      <th>102232</th>\n",
       "      <td>483342</td>\n",
       "      <td>1</td>\n",
       "      <td>0.861538</td>\n",
       "      <td>1</td>\n",
       "      <td>0.122955</td>\n",
       "      <td>0</td>\n",
       "      <td>over_2_years</td>\n",
       "      <td>1</td>\n",
       "      <td>0.716672</td>\n",
       "      <td>26.0</td>\n",
       "      <td>0.823529</td>\n",
       "      <td>0.531744</td>\n",
       "    </tr>\n",
       "    <tr>\n",
       "      <th>4697</th>\n",
       "      <td>385807</td>\n",
       "      <td>1</td>\n",
       "      <td>0.846154</td>\n",
       "      <td>1</td>\n",
       "      <td>0.122955</td>\n",
       "      <td>0</td>\n",
       "      <td>over_2_years</td>\n",
       "      <td>1</td>\n",
       "      <td>0.542398</td>\n",
       "      <td>26.0</td>\n",
       "      <td>0.792388</td>\n",
       "      <td>0.531744</td>\n",
       "    </tr>\n",
       "    <tr>\n",
       "      <th>52795</th>\n",
       "      <td>433905</td>\n",
       "      <td>1</td>\n",
       "      <td>0.830769</td>\n",
       "      <td>1</td>\n",
       "      <td>0.188400</td>\n",
       "      <td>0</td>\n",
       "      <td>over_2_years</td>\n",
       "      <td>1</td>\n",
       "      <td>1.451966</td>\n",
       "      <td>26.0</td>\n",
       "      <td>0.449827</td>\n",
       "      <td>0.529224</td>\n",
       "    </tr>\n",
       "    <tr>\n",
       "      <th>107060</th>\n",
       "      <td>488170</td>\n",
       "      <td>1</td>\n",
       "      <td>0.846154</td>\n",
       "      <td>1</td>\n",
       "      <td>0.188400</td>\n",
       "      <td>0</td>\n",
       "      <td>over_2_years</td>\n",
       "      <td>1</td>\n",
       "      <td>0.170955</td>\n",
       "      <td>26.0</td>\n",
       "      <td>0.723183</td>\n",
       "      <td>0.529224</td>\n",
       "    </tr>\n",
       "  </tbody>\n",
       "</table>\n",
       "</div>"
      ],
      "text/plain": [
       "            id  gender       age  driving_license  region_code  \\\n",
       "97750   478860       1  0.861538                1     0.122955   \n",
       "102232  483342       1  0.861538                1     0.122955   \n",
       "4697    385807       1  0.846154                1     0.122955   \n",
       "52795   433905       1  0.830769                1     0.188400   \n",
       "107060  488170       1  0.846154                1     0.188400   \n",
       "\n",
       "        previously_insured   vehicle_age  vehicle_damage  annual_premium  \\\n",
       "97750                    0  over_2_years               1        0.431140   \n",
       "102232                   0  over_2_years               1        0.716672   \n",
       "4697                     0  over_2_years               1        0.542398   \n",
       "52795                    0  over_2_years               1        1.451966   \n",
       "107060                   0  over_2_years               1        0.170955   \n",
       "\n",
       "        policy_sales_channel   vintage     score  \n",
       "97750                   26.0  0.276817  0.531744  \n",
       "102232                  26.0  0.823529  0.531744  \n",
       "4697                    26.0  0.792388  0.531744  \n",
       "52795                   26.0  0.449827  0.529224  \n",
       "107060                  26.0  0.723183  0.529224  "
      ]
     },
     "execution_count": 185,
     "metadata": {},
     "output_type": "execute_result"
    }
   ],
   "source": [
    "ex.sort_values( 'score', ascending=False ).head()"
   ]
  },
  {
   "cell_type": "code",
   "execution_count": 219,
   "id": "4afb182f",
   "metadata": {
    "ExecuteTime": {
     "end_time": "2022-08-13T04:40:55.537784Z",
     "start_time": "2022-08-13T04:40:55.498807Z"
    }
   },
   "outputs": [
    {
     "data": {
      "text/plain": [
       "id                      0\n",
       "gender                  0\n",
       "age                     0\n",
       "driving_license         0\n",
       "region_code             0\n",
       "previously_insured      0\n",
       "vehicle_age             0\n",
       "vehicle_damage          0\n",
       "annual_premium          0\n",
       "policy_sales_channel    0\n",
       "vintage                 0\n",
       "score                   0\n",
       "dtype: int64"
      ]
     },
     "execution_count": 219,
     "metadata": {},
     "output_type": "execute_result"
    }
   ],
   "source": []
  },
  {
   "cell_type": "code",
   "execution_count": 222,
   "id": "0bcd9db7",
   "metadata": {
    "ExecuteTime": {
     "end_time": "2022-08-13T04:43:25.159113Z",
     "start_time": "2022-08-13T04:43:18.800043Z"
    }
   },
   "outputs": [
    {
     "name": "stdout",
     "output_type": "stream",
     "text": [
      "Collecting xgboost\n",
      "  Using cached xgboost-1.6.1-py3-none-win_amd64.whl (125.4 MB)\n",
      "Requirement already satisfied: scipy in c:\\users\\kaka\\anaconda3\\envs\\health_insurance_class\\lib\\site-packages (from xgboost) (1.9.0)\n",
      "Requirement already satisfied: numpy in c:\\users\\kaka\\anaconda3\\envs\\health_insurance_class\\lib\\site-packages (from xgboost) (1.23.1)\n",
      "Installing collected packages: xgboost\n",
      "Successfully installed xgboost-1.6.1\n",
      "Note: you may need to restart the kernel to use updated packages.\n"
     ]
    }
   ],
   "source": [
    "pip install xgboost"
   ]
  },
  {
   "cell_type": "code",
   "execution_count": null,
   "id": "66d7ab1a",
   "metadata": {},
   "outputs": [],
   "source": []
  }
 ],
 "metadata": {
  "hide_input": false,
  "kernelspec": {
   "display_name": "Python 3 (ipykernel)",
   "language": "python",
   "name": "python3"
  },
  "language_info": {
   "codemirror_mode": {
    "name": "ipython",
    "version": 3
   },
   "file_extension": ".py",
   "mimetype": "text/x-python",
   "name": "python",
   "nbconvert_exporter": "python",
   "pygments_lexer": "ipython3",
   "version": "3.9.12"
  }
 },
 "nbformat": 4,
 "nbformat_minor": 5
}
